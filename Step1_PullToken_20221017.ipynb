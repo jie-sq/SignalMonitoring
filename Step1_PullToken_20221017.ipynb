{
 "cells": [
  {
   "cell_type": "code",
   "execution_count": 1,
   "id": "8b8cb4cb-c040-4717-ad89-6531620844f8",
   "metadata": {},
   "outputs": [
    {
     "name": "stderr",
     "output_type": "stream",
     "text": [
      "/usr/local/lib/python3.7/dist-packages/pysnowflake/__init__.py:21: FutureWarning: \n",
      "    With pysnowflake version 1.0.0 there will be a breaking change.\n",
      "    The legacy api will be dropped as it is no longer maintained, and simple will become the only api.\n",
      "    This will make it easier to keep support for newer features like AWS support, etc. The expected change is\n",
      "    the start of Q2 2022.\n",
      "    \n",
      "  FutureWarning,\n"
     ]
    }
   ],
   "source": [
    "from kplib.dumbo import Dumbo, FeatureOptions, EvaluationOptions, DataframeInput, FileInput\n",
    "import pandas as pd\n",
    "import numpy as np\n",
    "from pysnowflake.simple import Session\n",
    "import blocks"
   ]
  },
  {
   "cell_type": "code",
   "execution_count": 2,
   "id": "4de7be48-cfac-4425-938f-0ebf15b1477e",
   "metadata": {},
   "outputs": [],
   "source": [
    "def PullToken(st_dt, ed_dt):\n",
    "    with Session() as ss:\n",
    "        df  = ss.download(query=\"\"\"\n",
    "            SELECT GET(entity_tokens, 'unit_token') as unit_token\n",
    "            , decision_event_token as decision_event_token\n",
    "            , created_at as created_at\n",
    "            , status\n",
    "            FROM decisions.public.decisions_data_api dda\n",
    "            -- Filter by Date\n",
    "            WHERE created_at >= '{}' ::DATE\n",
    "            AND created_at < '{}' ::DATE\n",
    "            --   Get Production decisions only\n",
    "            AND is_shadow=FALSE\n",
    "            AND decision_type = 'ELIGIBILITY';\n",
    "            \"\"\".format(st_dt, ed_dt)) \n",
    "    return df"
   ]
  },
  {
   "cell_type": "markdown",
   "id": "542997ba-80e5-48b6-90af-c08b5783d9be",
   "metadata": {},
   "source": [
    "### 1.1 April"
   ]
  },
  {
   "cell_type": "code",
   "execution_count": 3,
   "id": "287adf29-82f0-4e36-9c77-cd66db2ed6e6",
   "metadata": {},
   "outputs": [],
   "source": [
    "df4 = PullToken('2022-04-01', '2022-05-01')"
   ]
  },
  {
   "cell_type": "code",
   "execution_count": 4,
   "id": "46d134fa-5d1e-4fa7-9248-4c2302e08e9e",
   "metadata": {},
   "outputs": [
    {
     "data": {
      "text/plain": [
       "(46764810, 4)"
      ]
     },
     "execution_count": 4,
     "metadata": {},
     "output_type": "execute_result"
    }
   ],
   "source": [
    "df4.shape"
   ]
  },
  {
   "cell_type": "code",
   "execution_count": 5,
   "id": "203d1665-c4b9-416b-a898-442c65cb3d8a",
   "metadata": {},
   "outputs": [
    {
     "data": {
      "text/html": [
       "<div>\n",
       "<style scoped>\n",
       "    .dataframe tbody tr th:only-of-type {\n",
       "        vertical-align: middle;\n",
       "    }\n",
       "\n",
       "    .dataframe tbody tr th {\n",
       "        vertical-align: top;\n",
       "    }\n",
       "\n",
       "    .dataframe thead th {\n",
       "        text-align: right;\n",
       "    }\n",
       "</style>\n",
       "<table border=\"1\" class=\"dataframe\">\n",
       "  <thead>\n",
       "    <tr style=\"text-align: right;\">\n",
       "      <th></th>\n",
       "      <th>unit_token</th>\n",
       "      <th>decision_event_token</th>\n",
       "      <th>created_at</th>\n",
       "      <th>status</th>\n",
       "    </tr>\n",
       "  </thead>\n",
       "  <tbody>\n",
       "    <tr>\n",
       "      <th>0</th>\n",
       "      <td>4VA6FRXFBXVAG</td>\n",
       "      <td>DS-78e837f7-8acc-4641-9be2-ec22a773de6d</td>\n",
       "      <td>2022-04-27 04:02:38.100</td>\n",
       "      <td>declined</td>\n",
       "    </tr>\n",
       "    <tr>\n",
       "      <th>1</th>\n",
       "      <td>TPG31G92QSJ6K</td>\n",
       "      <td>DS-c07c4e83-f66a-4411-8352-7d556406ce45</td>\n",
       "      <td>2022-04-27 03:47:13.076</td>\n",
       "      <td>approved</td>\n",
       "    </tr>\n",
       "    <tr>\n",
       "      <th>2</th>\n",
       "      <td>9NSP9YMA3ES73</td>\n",
       "      <td>DS-0b14fff1-e13c-4962-9c06-644e9cbfe1af</td>\n",
       "      <td>2022-04-27 03:34:38.107</td>\n",
       "      <td>approved</td>\n",
       "    </tr>\n",
       "    <tr>\n",
       "      <th>3</th>\n",
       "      <td>0ESP2RANPNSAK</td>\n",
       "      <td>DS-f74d1820-fff5-4abb-9831-f063ef78d961</td>\n",
       "      <td>2022-04-27 04:01:33.098</td>\n",
       "      <td>declined</td>\n",
       "    </tr>\n",
       "    <tr>\n",
       "      <th>4</th>\n",
       "      <td>D2Z1C8HBKZQ2S</td>\n",
       "      <td>DS-7997c03a-3035-4c84-9742-f7b9f146052c</td>\n",
       "      <td>2022-04-27 04:08:38.106</td>\n",
       "      <td>declined</td>\n",
       "    </tr>\n",
       "  </tbody>\n",
       "</table>\n",
       "</div>"
      ],
      "text/plain": [
       "      unit_token                     decision_event_token  \\\n",
       "0  4VA6FRXFBXVAG  DS-78e837f7-8acc-4641-9be2-ec22a773de6d   \n",
       "1  TPG31G92QSJ6K  DS-c07c4e83-f66a-4411-8352-7d556406ce45   \n",
       "2  9NSP9YMA3ES73  DS-0b14fff1-e13c-4962-9c06-644e9cbfe1af   \n",
       "3  0ESP2RANPNSAK  DS-f74d1820-fff5-4abb-9831-f063ef78d961   \n",
       "4  D2Z1C8HBKZQ2S  DS-7997c03a-3035-4c84-9742-f7b9f146052c   \n",
       "\n",
       "               created_at    status  \n",
       "0 2022-04-27 04:02:38.100  declined  \n",
       "1 2022-04-27 03:47:13.076  approved  \n",
       "2 2022-04-27 03:34:38.107  approved  \n",
       "3 2022-04-27 04:01:33.098  declined  \n",
       "4 2022-04-27 04:08:38.106  declined  "
      ]
     },
     "execution_count": 5,
     "metadata": {},
     "output_type": "execute_result"
    }
   ],
   "source": [
    "df4.head()"
   ]
  },
  {
   "cell_type": "code",
   "execution_count": 7,
   "id": "8d1b3e1f-d80d-407f-9f47-6550e4c43fcb",
   "metadata": {},
   "outputs": [],
   "source": [
    "url4 = \"gs://sq-ds-capital-prod/mrm/Eligibility_2022/TokenList_eligibility_202204.pq\"\n",
    "blocks.place(df4, url4)"
   ]
  },
  {
   "cell_type": "code",
   "execution_count": 6,
   "id": "7aff4549-d7cb-4d6f-ba8f-9544de8ba289",
   "metadata": {},
   "outputs": [],
   "source": [
    "df4['date'] = df4['created_at'].dt.date.apply(lambda x: x.strftime('%Y-%m-%d'))"
   ]
  },
  {
   "cell_type": "code",
   "execution_count": 7,
   "id": "e4348f93-7bba-4eb9-96db-ac5776215fc5",
   "metadata": {},
   "outputs": [
    {
     "data": {
      "text/html": [
       "<div>\n",
       "<style scoped>\n",
       "    .dataframe tbody tr th:only-of-type {\n",
       "        vertical-align: middle;\n",
       "    }\n",
       "\n",
       "    .dataframe tbody tr th {\n",
       "        vertical-align: top;\n",
       "    }\n",
       "\n",
       "    .dataframe thead th {\n",
       "        text-align: right;\n",
       "    }\n",
       "</style>\n",
       "<table border=\"1\" class=\"dataframe\">\n",
       "  <thead>\n",
       "    <tr style=\"text-align: right;\">\n",
       "      <th></th>\n",
       "      <th>unit_token</th>\n",
       "      <th>decision_event_token</th>\n",
       "      <th>created_at</th>\n",
       "      <th>status</th>\n",
       "      <th>date</th>\n",
       "    </tr>\n",
       "  </thead>\n",
       "  <tbody>\n",
       "    <tr>\n",
       "      <th>0</th>\n",
       "      <td>4VA6FRXFBXVAG</td>\n",
       "      <td>DS-78e837f7-8acc-4641-9be2-ec22a773de6d</td>\n",
       "      <td>2022-04-27 04:02:38.100</td>\n",
       "      <td>declined</td>\n",
       "      <td>2022-04-27</td>\n",
       "    </tr>\n",
       "    <tr>\n",
       "      <th>1</th>\n",
       "      <td>TPG31G92QSJ6K</td>\n",
       "      <td>DS-c07c4e83-f66a-4411-8352-7d556406ce45</td>\n",
       "      <td>2022-04-27 03:47:13.076</td>\n",
       "      <td>approved</td>\n",
       "      <td>2022-04-27</td>\n",
       "    </tr>\n",
       "    <tr>\n",
       "      <th>2</th>\n",
       "      <td>9NSP9YMA3ES73</td>\n",
       "      <td>DS-0b14fff1-e13c-4962-9c06-644e9cbfe1af</td>\n",
       "      <td>2022-04-27 03:34:38.107</td>\n",
       "      <td>approved</td>\n",
       "      <td>2022-04-27</td>\n",
       "    </tr>\n",
       "    <tr>\n",
       "      <th>3</th>\n",
       "      <td>0ESP2RANPNSAK</td>\n",
       "      <td>DS-f74d1820-fff5-4abb-9831-f063ef78d961</td>\n",
       "      <td>2022-04-27 04:01:33.098</td>\n",
       "      <td>declined</td>\n",
       "      <td>2022-04-27</td>\n",
       "    </tr>\n",
       "    <tr>\n",
       "      <th>4</th>\n",
       "      <td>D2Z1C8HBKZQ2S</td>\n",
       "      <td>DS-7997c03a-3035-4c84-9742-f7b9f146052c</td>\n",
       "      <td>2022-04-27 04:08:38.106</td>\n",
       "      <td>declined</td>\n",
       "      <td>2022-04-27</td>\n",
       "    </tr>\n",
       "    <tr>\n",
       "      <th>...</th>\n",
       "      <td>...</td>\n",
       "      <td>...</td>\n",
       "      <td>...</td>\n",
       "      <td>...</td>\n",
       "      <td>...</td>\n",
       "    </tr>\n",
       "    <tr>\n",
       "      <th>46764805</th>\n",
       "      <td>CVAK0M4TB83Y6</td>\n",
       "      <td>DS-cca7368c-b0bd-4590-af6a-7bce605ed4a7</td>\n",
       "      <td>2022-04-25 11:40:04.111</td>\n",
       "      <td>declined</td>\n",
       "      <td>2022-04-25</td>\n",
       "    </tr>\n",
       "    <tr>\n",
       "      <th>46764806</th>\n",
       "      <td>AJN19JNC0P4WD</td>\n",
       "      <td>DS-cf9bd54f-40f0-43fb-b45b-0ec309578d76</td>\n",
       "      <td>2022-04-25 11:35:14.084</td>\n",
       "      <td>declined</td>\n",
       "      <td>2022-04-25</td>\n",
       "    </tr>\n",
       "    <tr>\n",
       "      <th>46764807</th>\n",
       "      <td>WE7J09TWBMP3H</td>\n",
       "      <td>DS-8fecc1fe-aade-4489-9953-5bd4935fd755</td>\n",
       "      <td>2022-04-25 12:11:10.088</td>\n",
       "      <td>declined</td>\n",
       "      <td>2022-04-25</td>\n",
       "    </tr>\n",
       "    <tr>\n",
       "      <th>46764808</th>\n",
       "      <td>8QMHJ0R83Z8SR</td>\n",
       "      <td>DS-b72b6507-69bd-4ad1-8e93-143c5796665c</td>\n",
       "      <td>2022-04-25 12:01:19.234</td>\n",
       "      <td>declined</td>\n",
       "      <td>2022-04-25</td>\n",
       "    </tr>\n",
       "    <tr>\n",
       "      <th>46764809</th>\n",
       "      <td>4WD2B0HS8QRA7</td>\n",
       "      <td>DS-cf0aacc9-479a-4c79-afa6-f28a6447bdd2</td>\n",
       "      <td>2022-04-25 11:34:44.104</td>\n",
       "      <td>declined</td>\n",
       "      <td>2022-04-25</td>\n",
       "    </tr>\n",
       "  </tbody>\n",
       "</table>\n",
       "<p>46764810 rows × 5 columns</p>\n",
       "</div>"
      ],
      "text/plain": [
       "             unit_token                     decision_event_token  \\\n",
       "0         4VA6FRXFBXVAG  DS-78e837f7-8acc-4641-9be2-ec22a773de6d   \n",
       "1         TPG31G92QSJ6K  DS-c07c4e83-f66a-4411-8352-7d556406ce45   \n",
       "2         9NSP9YMA3ES73  DS-0b14fff1-e13c-4962-9c06-644e9cbfe1af   \n",
       "3         0ESP2RANPNSAK  DS-f74d1820-fff5-4abb-9831-f063ef78d961   \n",
       "4         D2Z1C8HBKZQ2S  DS-7997c03a-3035-4c84-9742-f7b9f146052c   \n",
       "...                 ...                                      ...   \n",
       "46764805  CVAK0M4TB83Y6  DS-cca7368c-b0bd-4590-af6a-7bce605ed4a7   \n",
       "46764806  AJN19JNC0P4WD  DS-cf9bd54f-40f0-43fb-b45b-0ec309578d76   \n",
       "46764807  WE7J09TWBMP3H  DS-8fecc1fe-aade-4489-9953-5bd4935fd755   \n",
       "46764808  8QMHJ0R83Z8SR  DS-b72b6507-69bd-4ad1-8e93-143c5796665c   \n",
       "46764809  4WD2B0HS8QRA7  DS-cf0aacc9-479a-4c79-afa6-f28a6447bdd2   \n",
       "\n",
       "                      created_at    status        date  \n",
       "0        2022-04-27 04:02:38.100  declined  2022-04-27  \n",
       "1        2022-04-27 03:47:13.076  approved  2022-04-27  \n",
       "2        2022-04-27 03:34:38.107  approved  2022-04-27  \n",
       "3        2022-04-27 04:01:33.098  declined  2022-04-27  \n",
       "4        2022-04-27 04:08:38.106  declined  2022-04-27  \n",
       "...                          ...       ...         ...  \n",
       "46764805 2022-04-25 11:40:04.111  declined  2022-04-25  \n",
       "46764806 2022-04-25 11:35:14.084  declined  2022-04-25  \n",
       "46764807 2022-04-25 12:11:10.088  declined  2022-04-25  \n",
       "46764808 2022-04-25 12:01:19.234  declined  2022-04-25  \n",
       "46764809 2022-04-25 11:34:44.104  declined  2022-04-25  \n",
       "\n",
       "[46764810 rows x 5 columns]"
      ]
     },
     "execution_count": 7,
     "metadata": {},
     "output_type": "execute_result"
    }
   ],
   "source": [
    "df4"
   ]
  },
  {
   "cell_type": "code",
   "execution_count": 8,
   "id": "ca3a2522-6518-4b35-9480-e5245ea4f480",
   "metadata": {},
   "outputs": [
    {
     "data": {
      "text/plain": [
       "date\n",
       "2022-04-01    1581082\n",
       "2022-04-02    1636877\n",
       "2022-04-03    1567368\n",
       "2022-04-04    1553032\n",
       "2022-04-05    1539412\n",
       "2022-04-06    1523861\n",
       "2022-04-07    1544079\n",
       "2022-04-08    1582883\n",
       "2022-04-09    1641407\n",
       "2022-04-10    1546937\n",
       "2022-04-11    1576615\n",
       "2022-04-12    1548298\n",
       "2022-04-13    1525794\n",
       "2022-04-14    1544516\n",
       "2022-04-15    1574819\n",
       "2022-04-16    1593468\n",
       "2022-04-17    1485347\n",
       "2022-04-18    1455323\n",
       "2022-04-19    1474400\n",
       "2022-04-20    1476823\n",
       "2022-04-21    1535893\n",
       "2022-04-22    1580125\n",
       "2022-04-23    1639689\n",
       "2022-04-24    1567541\n",
       "2022-04-25    1543325\n",
       "2022-04-26    1547639\n",
       "2022-04-27    1539172\n",
       "2022-04-28    1555319\n",
       "2022-04-29    1605656\n",
       "2022-04-30    1678110\n",
       "Name: unit_token, dtype: int64"
      ]
     },
     "execution_count": 8,
     "metadata": {},
     "output_type": "execute_result"
    }
   ],
   "source": [
    "df4['unit_token'].groupby(df4.date).count()"
   ]
  },
  {
   "cell_type": "code",
   "execution_count": 38,
   "id": "fc6df21c-7f53-41c6-9480-d5a5ad0f816c",
   "metadata": {},
   "outputs": [],
   "source": [
    "df4_sample = df4[['unit_token', 'decision_event_token', 'date']].groupby('date', group_keys=False).sample(n = 100000, random_state = 2022).reset_index(drop=True)"
   ]
  },
  {
   "cell_type": "code",
   "execution_count": 40,
   "id": "1617428a-3b24-4506-81a6-c31ec1fc13d1",
   "metadata": {},
   "outputs": [
    {
     "data": {
      "text/html": [
       "<div>\n",
       "<style scoped>\n",
       "    .dataframe tbody tr th:only-of-type {\n",
       "        vertical-align: middle;\n",
       "    }\n",
       "\n",
       "    .dataframe tbody tr th {\n",
       "        vertical-align: top;\n",
       "    }\n",
       "\n",
       "    .dataframe thead th {\n",
       "        text-align: right;\n",
       "    }\n",
       "</style>\n",
       "<table border=\"1\" class=\"dataframe\">\n",
       "  <thead>\n",
       "    <tr style=\"text-align: right;\">\n",
       "      <th></th>\n",
       "      <th>unit_token</th>\n",
       "      <th>decision_event_token</th>\n",
       "      <th>date</th>\n",
       "    </tr>\n",
       "  </thead>\n",
       "  <tbody>\n",
       "    <tr>\n",
       "      <th>0</th>\n",
       "      <td>15YMZHEQ03TDK</td>\n",
       "      <td>DS-b524c4a9-b31a-456e-81ab-3b3c230ec3cc</td>\n",
       "      <td>2022-04-01</td>\n",
       "    </tr>\n",
       "    <tr>\n",
       "      <th>1</th>\n",
       "      <td>3F1YCTC04TMMC</td>\n",
       "      <td>DS-c9ebe8bc-69b2-4ae1-82f1-9a6bb4a69f26</td>\n",
       "      <td>2022-04-01</td>\n",
       "    </tr>\n",
       "    <tr>\n",
       "      <th>2</th>\n",
       "      <td>LQHVDABGXJFKZ</td>\n",
       "      <td>DS-86e4ee3c-a064-4448-8584-92d5ac7a1898</td>\n",
       "      <td>2022-04-01</td>\n",
       "    </tr>\n",
       "    <tr>\n",
       "      <th>3</th>\n",
       "      <td>BXRJXP76TKVER</td>\n",
       "      <td>DS-5aa14802-0895-4123-a034-e2c138fbe076</td>\n",
       "      <td>2022-04-01</td>\n",
       "    </tr>\n",
       "    <tr>\n",
       "      <th>4</th>\n",
       "      <td>WGSCBJ6BRB2P3</td>\n",
       "      <td>DS-3187e88b-1fab-4ec0-8e0e-4c5c48678318</td>\n",
       "      <td>2022-04-01</td>\n",
       "    </tr>\n",
       "    <tr>\n",
       "      <th>...</th>\n",
       "      <td>...</td>\n",
       "      <td>...</td>\n",
       "      <td>...</td>\n",
       "    </tr>\n",
       "    <tr>\n",
       "      <th>2999995</th>\n",
       "      <td>61Z3A5P4WVZEZ</td>\n",
       "      <td>DS-142d744e-1068-412f-af8f-2745cec2199d</td>\n",
       "      <td>2022-04-30</td>\n",
       "    </tr>\n",
       "    <tr>\n",
       "      <th>2999996</th>\n",
       "      <td>3S6WRX68XA79S</td>\n",
       "      <td>DS-9e273fec-d39f-48fd-95d9-d329745acbe0</td>\n",
       "      <td>2022-04-30</td>\n",
       "    </tr>\n",
       "    <tr>\n",
       "      <th>2999997</th>\n",
       "      <td>L24RX3ESAK64J</td>\n",
       "      <td>DS-53a42aa6-6ebc-4a1b-a35a-120ac4204623</td>\n",
       "      <td>2022-04-30</td>\n",
       "    </tr>\n",
       "    <tr>\n",
       "      <th>2999998</th>\n",
       "      <td>LHFQGTA150S6G</td>\n",
       "      <td>DS-9ae290a6-6d26-4393-83f7-132fe30d3ed2</td>\n",
       "      <td>2022-04-30</td>\n",
       "    </tr>\n",
       "    <tr>\n",
       "      <th>2999999</th>\n",
       "      <td>3899ZH3SK3Z0A</td>\n",
       "      <td>DS-cb3720a8-3600-43d4-9357-cce757c061cc</td>\n",
       "      <td>2022-04-30</td>\n",
       "    </tr>\n",
       "  </tbody>\n",
       "</table>\n",
       "<p>3000000 rows × 3 columns</p>\n",
       "</div>"
      ],
      "text/plain": [
       "            unit_token                     decision_event_token        date\n",
       "0        15YMZHEQ03TDK  DS-b524c4a9-b31a-456e-81ab-3b3c230ec3cc  2022-04-01\n",
       "1        3F1YCTC04TMMC  DS-c9ebe8bc-69b2-4ae1-82f1-9a6bb4a69f26  2022-04-01\n",
       "2        LQHVDABGXJFKZ  DS-86e4ee3c-a064-4448-8584-92d5ac7a1898  2022-04-01\n",
       "3        BXRJXP76TKVER  DS-5aa14802-0895-4123-a034-e2c138fbe076  2022-04-01\n",
       "4        WGSCBJ6BRB2P3  DS-3187e88b-1fab-4ec0-8e0e-4c5c48678318  2022-04-01\n",
       "...                ...                                      ...         ...\n",
       "2999995  61Z3A5P4WVZEZ  DS-142d744e-1068-412f-af8f-2745cec2199d  2022-04-30\n",
       "2999996  3S6WRX68XA79S  DS-9e273fec-d39f-48fd-95d9-d329745acbe0  2022-04-30\n",
       "2999997  L24RX3ESAK64J  DS-53a42aa6-6ebc-4a1b-a35a-120ac4204623  2022-04-30\n",
       "2999998  LHFQGTA150S6G  DS-9ae290a6-6d26-4393-83f7-132fe30d3ed2  2022-04-30\n",
       "2999999  3899ZH3SK3Z0A  DS-cb3720a8-3600-43d4-9357-cce757c061cc  2022-04-30\n",
       "\n",
       "[3000000 rows x 3 columns]"
      ]
     },
     "execution_count": 40,
     "metadata": {},
     "output_type": "execute_result"
    }
   ],
   "source": [
    "df4_sample"
   ]
  },
  {
   "cell_type": "code",
   "execution_count": 41,
   "id": "cf76863d-cfd4-47d3-9cfb-a259f87ed40d",
   "metadata": {},
   "outputs": [],
   "source": [
    "url4s = \"gs://sq-ds-capital-prod/mrm/Eligibility_2022/TokenSample_202204.pq\"\n",
    "blocks.place(df4_sample, url4s)"
   ]
  },
  {
   "cell_type": "markdown",
   "id": "3c4656f8-57cb-4d53-b2b3-0e5d5493e368",
   "metadata": {},
   "source": [
    "### 1.2 May"
   ]
  },
  {
   "cell_type": "code",
   "execution_count": 14,
   "id": "2444e080-4032-412f-85ea-b41fd979e2cc",
   "metadata": {},
   "outputs": [],
   "source": [
    "df5 = PullToken('2022-05-01', '2022-06-01')"
   ]
  },
  {
   "cell_type": "code",
   "execution_count": 9,
   "id": "e4fd7c38-f0d9-4dc0-8480-45ef30b3bf8e",
   "metadata": {},
   "outputs": [
    {
     "data": {
      "text/plain": [
       "(50512757, 4)"
      ]
     },
     "execution_count": 9,
     "metadata": {},
     "output_type": "execute_result"
    }
   ],
   "source": [
    "df5.shape"
   ]
  },
  {
   "cell_type": "code",
   "execution_count": 10,
   "id": "5032684e-8b2c-4158-8b4d-6aded8ac474d",
   "metadata": {},
   "outputs": [
    {
     "data": {
      "text/html": [
       "<div>\n",
       "<style scoped>\n",
       "    .dataframe tbody tr th:only-of-type {\n",
       "        vertical-align: middle;\n",
       "    }\n",
       "\n",
       "    .dataframe tbody tr th {\n",
       "        vertical-align: top;\n",
       "    }\n",
       "\n",
       "    .dataframe thead th {\n",
       "        text-align: right;\n",
       "    }\n",
       "</style>\n",
       "<table border=\"1\" class=\"dataframe\">\n",
       "  <thead>\n",
       "    <tr style=\"text-align: right;\">\n",
       "      <th></th>\n",
       "      <th>unit_token</th>\n",
       "      <th>decision_event_token</th>\n",
       "      <th>created_at</th>\n",
       "      <th>status</th>\n",
       "    </tr>\n",
       "  </thead>\n",
       "  <tbody>\n",
       "    <tr>\n",
       "      <th>0</th>\n",
       "      <td>XRMTERDRRP8H2</td>\n",
       "      <td>DS-8b9a4625-b29a-4a79-abc5-2ef5cb17cbb3</td>\n",
       "      <td>2022-05-01 04:43:42.108</td>\n",
       "      <td>approved</td>\n",
       "    </tr>\n",
       "    <tr>\n",
       "      <th>1</th>\n",
       "      <td>NP76P1MAABMWY</td>\n",
       "      <td>DS-f2b5bd79-5b0a-4cd9-a9f3-549b491a228b</td>\n",
       "      <td>2022-05-01 04:54:06.100</td>\n",
       "      <td>approved</td>\n",
       "    </tr>\n",
       "    <tr>\n",
       "      <th>2</th>\n",
       "      <td>7SRDD4YV0K738</td>\n",
       "      <td>DS-dd96aca3-78b2-488d-9379-1fe642739524</td>\n",
       "      <td>2022-05-01 04:45:36.081</td>\n",
       "      <td>declined</td>\n",
       "    </tr>\n",
       "    <tr>\n",
       "      <th>3</th>\n",
       "      <td>9RHW6VCSY6435</td>\n",
       "      <td>DS-07f9f3a9-5b5d-42bc-9a4e-b9fa906a9523</td>\n",
       "      <td>2022-05-01 04:29:26.077</td>\n",
       "      <td>approved</td>\n",
       "    </tr>\n",
       "    <tr>\n",
       "      <th>4</th>\n",
       "      <td>5DRTWR73AF294</td>\n",
       "      <td>DS-613278a6-e1d8-4dcd-a01c-7c673d3023c1</td>\n",
       "      <td>2022-05-01 04:38:11.111</td>\n",
       "      <td>declined</td>\n",
       "    </tr>\n",
       "  </tbody>\n",
       "</table>\n",
       "</div>"
      ],
      "text/plain": [
       "      unit_token                     decision_event_token  \\\n",
       "0  XRMTERDRRP8H2  DS-8b9a4625-b29a-4a79-abc5-2ef5cb17cbb3   \n",
       "1  NP76P1MAABMWY  DS-f2b5bd79-5b0a-4cd9-a9f3-549b491a228b   \n",
       "2  7SRDD4YV0K738  DS-dd96aca3-78b2-488d-9379-1fe642739524   \n",
       "3  9RHW6VCSY6435  DS-07f9f3a9-5b5d-42bc-9a4e-b9fa906a9523   \n",
       "4  5DRTWR73AF294  DS-613278a6-e1d8-4dcd-a01c-7c673d3023c1   \n",
       "\n",
       "               created_at    status  \n",
       "0 2022-05-01 04:43:42.108  approved  \n",
       "1 2022-05-01 04:54:06.100  approved  \n",
       "2 2022-05-01 04:45:36.081  declined  \n",
       "3 2022-05-01 04:29:26.077  approved  \n",
       "4 2022-05-01 04:38:11.111  declined  "
      ]
     },
     "execution_count": 10,
     "metadata": {},
     "output_type": "execute_result"
    }
   ],
   "source": [
    "df5.head()"
   ]
  },
  {
   "cell_type": "code",
   "execution_count": 11,
   "id": "f34e578f-1f6e-41eb-8faf-865d5cf09365",
   "metadata": {},
   "outputs": [],
   "source": [
    "url5 = \"gs://sq-ds-capital-prod/mrm/Eligibility_2022/TokenList_eligibility_202205.pq\"\n",
    "blocks.place(df5, url5)"
   ]
  },
  {
   "cell_type": "code",
   "execution_count": 42,
   "id": "c4fe7748-669f-4aa9-8ab8-6ea28b837f8f",
   "metadata": {},
   "outputs": [],
   "source": [
    "df5['date'] = df5['created_at'].dt.date.apply(lambda x: x.strftime('%Y-%m-%d'))"
   ]
  },
  {
   "cell_type": "code",
   "execution_count": 43,
   "id": "10bb93a4-14a5-4b9a-80b6-24919f31bc4d",
   "metadata": {},
   "outputs": [
    {
     "data": {
      "text/plain": [
       "date\n",
       "2022-05-01    1624727\n",
       "2022-05-02    1609096\n",
       "2022-05-03    1612637\n",
       "2022-05-04    1588604\n",
       "2022-05-05    1605290\n",
       "2022-05-06    1688539\n",
       "2022-05-07    1763257\n",
       "2022-05-08    1656617\n",
       "2022-05-09    1632169\n",
       "2022-05-10    1617577\n",
       "2022-05-11    1585735\n",
       "2022-05-12    1621594\n",
       "2022-05-13    1659503\n",
       "2022-05-14    1720662\n",
       "2022-05-15    1646648\n",
       "2022-05-16    1627669\n",
       "2022-05-17    1624651\n",
       "2022-05-18    1602225\n",
       "2022-05-19    1622308\n",
       "2022-05-20    1661174\n",
       "2022-05-21    1719219\n",
       "2022-05-22    1635861\n",
       "2022-05-23    1605875\n",
       "2022-05-24    1601821\n",
       "2022-05-25    1586546\n",
       "2022-05-26    1607842\n",
       "2022-05-27    1650402\n",
       "2022-05-28    1693431\n",
       "2022-05-29    1604381\n",
       "2022-05-30    1503275\n",
       "2022-05-31    1533422\n",
       "Name: unit_token, dtype: int64"
      ]
     },
     "execution_count": 43,
     "metadata": {},
     "output_type": "execute_result"
    }
   ],
   "source": [
    "df5['unit_token'].groupby(df5.date).count()"
   ]
  },
  {
   "cell_type": "code",
   "execution_count": 44,
   "id": "d190930d-d0e2-4558-ab5d-4f24923befe0",
   "metadata": {},
   "outputs": [],
   "source": [
    "df5_sample = df5[['unit_token', 'decision_event_token', 'date']].groupby('date', group_keys=False).sample(n = 100000, random_state = 2022).reset_index(drop=True)"
   ]
  },
  {
   "cell_type": "code",
   "execution_count": 45,
   "id": "e3557c69-63ca-4733-a03e-8155370d4af7",
   "metadata": {},
   "outputs": [
    {
     "data": {
      "text/html": [
       "<div>\n",
       "<style scoped>\n",
       "    .dataframe tbody tr th:only-of-type {\n",
       "        vertical-align: middle;\n",
       "    }\n",
       "\n",
       "    .dataframe tbody tr th {\n",
       "        vertical-align: top;\n",
       "    }\n",
       "\n",
       "    .dataframe thead th {\n",
       "        text-align: right;\n",
       "    }\n",
       "</style>\n",
       "<table border=\"1\" class=\"dataframe\">\n",
       "  <thead>\n",
       "    <tr style=\"text-align: right;\">\n",
       "      <th></th>\n",
       "      <th>unit_token</th>\n",
       "      <th>decision_event_token</th>\n",
       "      <th>date</th>\n",
       "    </tr>\n",
       "  </thead>\n",
       "  <tbody>\n",
       "    <tr>\n",
       "      <th>0</th>\n",
       "      <td>CYNF1VAGE6BSQ</td>\n",
       "      <td>DS-fd0ae020-6484-4bb1-90a8-7a30ebb736f5</td>\n",
       "      <td>2022-05-01</td>\n",
       "    </tr>\n",
       "    <tr>\n",
       "      <th>1</th>\n",
       "      <td>606H6EXHMTGGY</td>\n",
       "      <td>DS-e82d958a-0019-4409-a6a9-4b92cf184a4c</td>\n",
       "      <td>2022-05-01</td>\n",
       "    </tr>\n",
       "    <tr>\n",
       "      <th>2</th>\n",
       "      <td>9Q9FJ21661RN8</td>\n",
       "      <td>DS-ed9616a6-5b53-476d-a880-ee4525cde129</td>\n",
       "      <td>2022-05-01</td>\n",
       "    </tr>\n",
       "    <tr>\n",
       "      <th>3</th>\n",
       "      <td>L3555MV8GEZN6</td>\n",
       "      <td>DS-e23ba180-e3e2-4644-8a7c-29e02245a4c9</td>\n",
       "      <td>2022-05-01</td>\n",
       "    </tr>\n",
       "    <tr>\n",
       "      <th>4</th>\n",
       "      <td>B1NDPFHFW8S2D</td>\n",
       "      <td>DS-39125b59-8219-4662-9b21-e7d9dc433ed5</td>\n",
       "      <td>2022-05-01</td>\n",
       "    </tr>\n",
       "    <tr>\n",
       "      <th>...</th>\n",
       "      <td>...</td>\n",
       "      <td>...</td>\n",
       "      <td>...</td>\n",
       "    </tr>\n",
       "    <tr>\n",
       "      <th>3099995</th>\n",
       "      <td>QER6JGAW8A30F</td>\n",
       "      <td>DS-6980e894-a0cc-480a-867f-04f0b4358f94</td>\n",
       "      <td>2022-05-31</td>\n",
       "    </tr>\n",
       "    <tr>\n",
       "      <th>3099996</th>\n",
       "      <td>A52208PREZD3X</td>\n",
       "      <td>DS-45f29d11-c1eb-4a55-b7de-5fad708eabc6</td>\n",
       "      <td>2022-05-31</td>\n",
       "    </tr>\n",
       "    <tr>\n",
       "      <th>3099997</th>\n",
       "      <td>L9MQATYJ5EMCT</td>\n",
       "      <td>DS-a768a41d-97ff-48c8-8278-e07c686eaac7</td>\n",
       "      <td>2022-05-31</td>\n",
       "    </tr>\n",
       "    <tr>\n",
       "      <th>3099998</th>\n",
       "      <td>LH1QJVC45SZ8F</td>\n",
       "      <td>DS-48d9b5d3-fd00-4494-aa4a-52fefeee29c6</td>\n",
       "      <td>2022-05-31</td>\n",
       "    </tr>\n",
       "    <tr>\n",
       "      <th>3099999</th>\n",
       "      <td>74H21588QKWCR</td>\n",
       "      <td>DS-b5ed5ec4-9500-44c5-845e-a2346f954867</td>\n",
       "      <td>2022-05-31</td>\n",
       "    </tr>\n",
       "  </tbody>\n",
       "</table>\n",
       "<p>3100000 rows × 3 columns</p>\n",
       "</div>"
      ],
      "text/plain": [
       "            unit_token                     decision_event_token        date\n",
       "0        CYNF1VAGE6BSQ  DS-fd0ae020-6484-4bb1-90a8-7a30ebb736f5  2022-05-01\n",
       "1        606H6EXHMTGGY  DS-e82d958a-0019-4409-a6a9-4b92cf184a4c  2022-05-01\n",
       "2        9Q9FJ21661RN8  DS-ed9616a6-5b53-476d-a880-ee4525cde129  2022-05-01\n",
       "3        L3555MV8GEZN6  DS-e23ba180-e3e2-4644-8a7c-29e02245a4c9  2022-05-01\n",
       "4        B1NDPFHFW8S2D  DS-39125b59-8219-4662-9b21-e7d9dc433ed5  2022-05-01\n",
       "...                ...                                      ...         ...\n",
       "3099995  QER6JGAW8A30F  DS-6980e894-a0cc-480a-867f-04f0b4358f94  2022-05-31\n",
       "3099996  A52208PREZD3X  DS-45f29d11-c1eb-4a55-b7de-5fad708eabc6  2022-05-31\n",
       "3099997  L9MQATYJ5EMCT  DS-a768a41d-97ff-48c8-8278-e07c686eaac7  2022-05-31\n",
       "3099998  LH1QJVC45SZ8F  DS-48d9b5d3-fd00-4494-aa4a-52fefeee29c6  2022-05-31\n",
       "3099999  74H21588QKWCR  DS-b5ed5ec4-9500-44c5-845e-a2346f954867  2022-05-31\n",
       "\n",
       "[3100000 rows x 3 columns]"
      ]
     },
     "execution_count": 45,
     "metadata": {},
     "output_type": "execute_result"
    }
   ],
   "source": [
    "df5_sample"
   ]
  },
  {
   "cell_type": "code",
   "execution_count": 46,
   "id": "d126d7ba-bcd6-4290-b5bc-35aac3991c1e",
   "metadata": {},
   "outputs": [],
   "source": [
    "url5s = \"gs://sq-ds-capital-prod/mrm/Eligibility_2022/TokenSample_202205.pq\"\n",
    "blocks.place(df5_sample, url5s)"
   ]
  },
  {
   "cell_type": "markdown",
   "id": "86c657dc-b90b-47db-82d4-83feac40de83",
   "metadata": {},
   "source": [
    "### 1.3 June"
   ]
  },
  {
   "cell_type": "code",
   "execution_count": 3,
   "id": "581278ea-4dd9-4d3f-80cc-6aaeec99eb52",
   "metadata": {},
   "outputs": [],
   "source": [
    "df6 = PullToken('2022-06-01', '2022-07-01')"
   ]
  },
  {
   "cell_type": "code",
   "execution_count": 4,
   "id": "e242cfea-adef-4245-964b-b40637ebbf3a",
   "metadata": {},
   "outputs": [
    {
     "data": {
      "text/plain": [
       "(75100946, 4)"
      ]
     },
     "execution_count": 4,
     "metadata": {},
     "output_type": "execute_result"
    }
   ],
   "source": [
    "df6.shape"
   ]
  },
  {
   "cell_type": "code",
   "execution_count": 5,
   "id": "39ee9b69-0f1e-49ff-8137-46a0001012a6",
   "metadata": {},
   "outputs": [
    {
     "data": {
      "text/html": [
       "<div>\n",
       "<style scoped>\n",
       "    .dataframe tbody tr th:only-of-type {\n",
       "        vertical-align: middle;\n",
       "    }\n",
       "\n",
       "    .dataframe tbody tr th {\n",
       "        vertical-align: top;\n",
       "    }\n",
       "\n",
       "    .dataframe thead th {\n",
       "        text-align: right;\n",
       "    }\n",
       "</style>\n",
       "<table border=\"1\" class=\"dataframe\">\n",
       "  <thead>\n",
       "    <tr style=\"text-align: right;\">\n",
       "      <th></th>\n",
       "      <th>unit_token</th>\n",
       "      <th>decision_event_token</th>\n",
       "      <th>created_at</th>\n",
       "      <th>status</th>\n",
       "    </tr>\n",
       "  </thead>\n",
       "  <tbody>\n",
       "    <tr>\n",
       "      <th>0</th>\n",
       "      <td>LRZ6BWM4Q467Y</td>\n",
       "      <td>DS-CS_C-1V1D1NZ3C0YX1K_2022-06-02</td>\n",
       "      <td>2022-06-02 23:06:40.830</td>\n",
       "      <td>declined</td>\n",
       "    </tr>\n",
       "    <tr>\n",
       "      <th>1</th>\n",
       "      <td>F1GJGTMG6K3J9</td>\n",
       "      <td>DS-CS_C-1VRQAPNDK6PMPN_2022-06-02</td>\n",
       "      <td>2022-06-02 23:04:53.382</td>\n",
       "      <td>declined</td>\n",
       "    </tr>\n",
       "    <tr>\n",
       "      <th>2</th>\n",
       "      <td>LX2EGYBF6GKHB</td>\n",
       "      <td>DS-CS_C-AAEBJE0RNFNR2C_2022-06-02</td>\n",
       "      <td>2022-06-02 23:23:55.147</td>\n",
       "      <td>declined</td>\n",
       "    </tr>\n",
       "    <tr>\n",
       "      <th>3</th>\n",
       "      <td>LQXR7QK71FWR9</td>\n",
       "      <td>DS-CS_C-3DYDJYG5WBNH86_2022-06-02</td>\n",
       "      <td>2022-06-02 22:41:10.450</td>\n",
       "      <td>declined</td>\n",
       "    </tr>\n",
       "    <tr>\n",
       "      <th>4</th>\n",
       "      <td>LG7BSDWWN683X</td>\n",
       "      <td>DS-CS_C-2MD5140A7BXNKA_2022-06-02</td>\n",
       "      <td>2022-06-02 22:39:56.752</td>\n",
       "      <td>declined</td>\n",
       "    </tr>\n",
       "  </tbody>\n",
       "</table>\n",
       "</div>"
      ],
      "text/plain": [
       "      unit_token               decision_event_token              created_at  \\\n",
       "0  LRZ6BWM4Q467Y  DS-CS_C-1V1D1NZ3C0YX1K_2022-06-02 2022-06-02 23:06:40.830   \n",
       "1  F1GJGTMG6K3J9  DS-CS_C-1VRQAPNDK6PMPN_2022-06-02 2022-06-02 23:04:53.382   \n",
       "2  LX2EGYBF6GKHB  DS-CS_C-AAEBJE0RNFNR2C_2022-06-02 2022-06-02 23:23:55.147   \n",
       "3  LQXR7QK71FWR9  DS-CS_C-3DYDJYG5WBNH86_2022-06-02 2022-06-02 22:41:10.450   \n",
       "4  LG7BSDWWN683X  DS-CS_C-2MD5140A7BXNKA_2022-06-02 2022-06-02 22:39:56.752   \n",
       "\n",
       "     status  \n",
       "0  declined  \n",
       "1  declined  \n",
       "2  declined  \n",
       "3  declined  \n",
       "4  declined  "
      ]
     },
     "execution_count": 5,
     "metadata": {},
     "output_type": "execute_result"
    }
   ],
   "source": [
    "df6.head()"
   ]
  },
  {
   "cell_type": "code",
   "execution_count": 6,
   "id": "41cbd251-67be-42a6-b061-901e1b0e13c4",
   "metadata": {},
   "outputs": [],
   "source": [
    "url6 = \"gs://sq-ds-capital-prod/mrm/Eligibility_2022/TokenList_eligibility_202206.pq\"\n",
    "blocks.place(df6, url6)"
   ]
  },
  {
   "cell_type": "code",
   "execution_count": 4,
   "id": "612e79e9-1728-4c58-95cd-446d5f3e618d",
   "metadata": {},
   "outputs": [],
   "source": [
    "df6['date'] = df6['created_at'].dt.date.apply(lambda x: x.strftime('%Y-%m-%d'))"
   ]
  },
  {
   "cell_type": "code",
   "execution_count": 5,
   "id": "6dc17e5f-88ad-49d6-95e7-b6b34d84c2d4",
   "metadata": {},
   "outputs": [
    {
     "data": {
      "text/plain": [
       "date\n",
       "2022-06-01    1572609\n",
       "2022-06-02    2662771\n",
       "2022-06-03    3811149\n",
       "2022-06-04    3640376\n",
       "2022-06-05    3590687\n",
       "2022-06-06    3292021\n",
       "2022-06-07    3310330\n",
       "2022-06-08    2730126\n",
       "2022-06-09    1630220\n",
       "2022-06-10    1672267\n",
       "2022-06-11    1731952\n",
       "2022-06-12    1648972\n",
       "2022-06-13    1622134\n",
       "2022-06-14    1619500\n",
       "2022-06-15    1609751\n",
       "2022-06-16    1633196\n",
       "2022-06-17    1676250\n",
       "2022-06-18    1739724\n",
       "2022-06-19    1640936\n",
       "2022-06-20    1608913\n",
       "2022-06-21    1603309\n",
       "2022-06-22    3149764\n",
       "2022-06-23    3234305\n",
       "2022-06-24    3257658\n",
       "2022-06-25    3363257\n",
       "2022-06-26    3329876\n",
       "2022-06-27    3262615\n",
       "2022-06-28    3241729\n",
       "2022-06-29    3227717\n",
       "2022-06-30    2986832\n",
       "Name: unit_token, dtype: int64"
      ]
     },
     "execution_count": 5,
     "metadata": {},
     "output_type": "execute_result"
    }
   ],
   "source": [
    "df6['unit_token'].groupby(df6.date).count()"
   ]
  },
  {
   "cell_type": "code",
   "execution_count": 6,
   "id": "b0fab20d-d0e6-4aeb-bace-cd818eb80557",
   "metadata": {},
   "outputs": [],
   "source": [
    "df6_sample = df6[['unit_token', 'decision_event_token', 'date']].groupby('date', group_keys=False).sample(n = 100000, random_state = 2022).reset_index(drop=True)"
   ]
  },
  {
   "cell_type": "code",
   "execution_count": 7,
   "id": "7a39def5-25c2-455b-8d09-a696a9c883a1",
   "metadata": {},
   "outputs": [
    {
     "data": {
      "text/html": [
       "<div>\n",
       "<style scoped>\n",
       "    .dataframe tbody tr th:only-of-type {\n",
       "        vertical-align: middle;\n",
       "    }\n",
       "\n",
       "    .dataframe tbody tr th {\n",
       "        vertical-align: top;\n",
       "    }\n",
       "\n",
       "    .dataframe thead th {\n",
       "        text-align: right;\n",
       "    }\n",
       "</style>\n",
       "<table border=\"1\" class=\"dataframe\">\n",
       "  <thead>\n",
       "    <tr style=\"text-align: right;\">\n",
       "      <th></th>\n",
       "      <th>unit_token</th>\n",
       "      <th>decision_event_token</th>\n",
       "      <th>date</th>\n",
       "    </tr>\n",
       "  </thead>\n",
       "  <tbody>\n",
       "    <tr>\n",
       "      <th>0</th>\n",
       "      <td>Z87JTCG5NQESV</td>\n",
       "      <td>DS-94ce4614-7ab5-4843-8de7-e5dfc8045bc5</td>\n",
       "      <td>2022-06-01</td>\n",
       "    </tr>\n",
       "    <tr>\n",
       "      <th>1</th>\n",
       "      <td>5YR30GAHCV27P</td>\n",
       "      <td>DS-4bfe73bd-8cd0-4833-8acc-39ba73236565</td>\n",
       "      <td>2022-06-01</td>\n",
       "    </tr>\n",
       "    <tr>\n",
       "      <th>2</th>\n",
       "      <td>LE3W7Y889K5B8</td>\n",
       "      <td>DS-1dd52b0d-f82f-4f58-aab7-814c1b062ee2</td>\n",
       "      <td>2022-06-01</td>\n",
       "    </tr>\n",
       "    <tr>\n",
       "      <th>3</th>\n",
       "      <td>8CFDM0HRCY83V</td>\n",
       "      <td>DS-655bdfdb-a910-4f27-a738-ac40158960c6</td>\n",
       "      <td>2022-06-01</td>\n",
       "    </tr>\n",
       "    <tr>\n",
       "      <th>4</th>\n",
       "      <td>LHCCQP21E9Q2H</td>\n",
       "      <td>DS-9f311a71-1f71-4a81-af48-0048a1b61ee2</td>\n",
       "      <td>2022-06-01</td>\n",
       "    </tr>\n",
       "    <tr>\n",
       "      <th>...</th>\n",
       "      <td>...</td>\n",
       "      <td>...</td>\n",
       "      <td>...</td>\n",
       "    </tr>\n",
       "    <tr>\n",
       "      <th>2999995</th>\n",
       "      <td>05J2T7S8RFZKR</td>\n",
       "      <td>DS-2e0df85f-5c15-47e0-b34b-f89d0e7a45cd</td>\n",
       "      <td>2022-06-30</td>\n",
       "    </tr>\n",
       "    <tr>\n",
       "      <th>2999996</th>\n",
       "      <td>BRXFG92MYPHPC</td>\n",
       "      <td>DS-CS_C-13GF22BJR3PS3V_2022-06-30</td>\n",
       "      <td>2022-06-30</td>\n",
       "    </tr>\n",
       "    <tr>\n",
       "      <th>2999997</th>\n",
       "      <td>LDJC6VXG0ZR0N</td>\n",
       "      <td>DS-9384be15-c2eb-4d54-b072-58eb255aaf7a</td>\n",
       "      <td>2022-06-30</td>\n",
       "    </tr>\n",
       "    <tr>\n",
       "      <th>2999998</th>\n",
       "      <td>2ED3D8XSMHKD1</td>\n",
       "      <td>DS-ddbf471e-fe9e-4762-a272-094675a3ade0</td>\n",
       "      <td>2022-06-30</td>\n",
       "    </tr>\n",
       "    <tr>\n",
       "      <th>2999999</th>\n",
       "      <td>FVWQ10WMT1A0V</td>\n",
       "      <td>DS-b0e182ee-1d44-46bd-bd39-045d991850db</td>\n",
       "      <td>2022-06-30</td>\n",
       "    </tr>\n",
       "  </tbody>\n",
       "</table>\n",
       "<p>3000000 rows × 3 columns</p>\n",
       "</div>"
      ],
      "text/plain": [
       "            unit_token                     decision_event_token        date\n",
       "0        Z87JTCG5NQESV  DS-94ce4614-7ab5-4843-8de7-e5dfc8045bc5  2022-06-01\n",
       "1        5YR30GAHCV27P  DS-4bfe73bd-8cd0-4833-8acc-39ba73236565  2022-06-01\n",
       "2        LE3W7Y889K5B8  DS-1dd52b0d-f82f-4f58-aab7-814c1b062ee2  2022-06-01\n",
       "3        8CFDM0HRCY83V  DS-655bdfdb-a910-4f27-a738-ac40158960c6  2022-06-01\n",
       "4        LHCCQP21E9Q2H  DS-9f311a71-1f71-4a81-af48-0048a1b61ee2  2022-06-01\n",
       "...                ...                                      ...         ...\n",
       "2999995  05J2T7S8RFZKR  DS-2e0df85f-5c15-47e0-b34b-f89d0e7a45cd  2022-06-30\n",
       "2999996  BRXFG92MYPHPC        DS-CS_C-13GF22BJR3PS3V_2022-06-30  2022-06-30\n",
       "2999997  LDJC6VXG0ZR0N  DS-9384be15-c2eb-4d54-b072-58eb255aaf7a  2022-06-30\n",
       "2999998  2ED3D8XSMHKD1  DS-ddbf471e-fe9e-4762-a272-094675a3ade0  2022-06-30\n",
       "2999999  FVWQ10WMT1A0V  DS-b0e182ee-1d44-46bd-bd39-045d991850db  2022-06-30\n",
       "\n",
       "[3000000 rows x 3 columns]"
      ]
     },
     "execution_count": 7,
     "metadata": {},
     "output_type": "execute_result"
    }
   ],
   "source": [
    "df6_sample"
   ]
  },
  {
   "cell_type": "code",
   "execution_count": 8,
   "id": "77cf66a6-98e8-4e23-9204-58787c5fd1b2",
   "metadata": {},
   "outputs": [],
   "source": [
    "url6s = \"gs://sq-ds-capital-prod/mrm/Eligibility_2022/TokenSample_202206.pq\"\n",
    "blocks.place(df6_sample, url6s)"
   ]
  },
  {
   "cell_type": "markdown",
   "id": "91654482-4ebf-44e6-b16f-aaad8e19c6d0",
   "metadata": {},
   "source": [
    "### 1.4 July"
   ]
  },
  {
   "cell_type": "code",
   "execution_count": 9,
   "id": "0644bae5-fff2-4189-9fc8-ff0f25333180",
   "metadata": {},
   "outputs": [],
   "source": [
    "df7 = PullToken('2022-07-01', '2022-08-01')"
   ]
  },
  {
   "cell_type": "code",
   "execution_count": 8,
   "id": "121cdbb0-0595-4d72-806a-1b5d26bef068",
   "metadata": {},
   "outputs": [
    {
     "data": {
      "text/plain": [
       "(59277320, 4)"
      ]
     },
     "execution_count": 8,
     "metadata": {},
     "output_type": "execute_result"
    }
   ],
   "source": [
    "df7.shape"
   ]
  },
  {
   "cell_type": "code",
   "execution_count": 9,
   "id": "2073d824-d72e-4c5d-bcac-a757043f35ee",
   "metadata": {},
   "outputs": [
    {
     "data": {
      "text/html": [
       "<div>\n",
       "<style scoped>\n",
       "    .dataframe tbody tr th:only-of-type {\n",
       "        vertical-align: middle;\n",
       "    }\n",
       "\n",
       "    .dataframe tbody tr th {\n",
       "        vertical-align: top;\n",
       "    }\n",
       "\n",
       "    .dataframe thead th {\n",
       "        text-align: right;\n",
       "    }\n",
       "</style>\n",
       "<table border=\"1\" class=\"dataframe\">\n",
       "  <thead>\n",
       "    <tr style=\"text-align: right;\">\n",
       "      <th></th>\n",
       "      <th>unit_token</th>\n",
       "      <th>decision_event_token</th>\n",
       "      <th>created_at</th>\n",
       "      <th>status</th>\n",
       "    </tr>\n",
       "  </thead>\n",
       "  <tbody>\n",
       "    <tr>\n",
       "      <th>0</th>\n",
       "      <td>GVYGTYQ52TSRY</td>\n",
       "      <td>DS-CS_C-E39X1R03XSTRJ2_2022-07-26</td>\n",
       "      <td>2022-07-26 19:26:27.571</td>\n",
       "      <td>declined</td>\n",
       "    </tr>\n",
       "    <tr>\n",
       "      <th>1</th>\n",
       "      <td>ZZ938TBHTFV93</td>\n",
       "      <td>DS-CS_C-1H0AYTCBC87AD5_2022-07-26</td>\n",
       "      <td>2022-07-26 19:38:58.707</td>\n",
       "      <td>declined</td>\n",
       "    </tr>\n",
       "    <tr>\n",
       "      <th>2</th>\n",
       "      <td>LX2F2498ABCD6</td>\n",
       "      <td>DS-CS_C-39ERN7F72C87SQ_2022-07-26</td>\n",
       "      <td>2022-07-26 19:29:28.191</td>\n",
       "      <td>declined</td>\n",
       "    </tr>\n",
       "    <tr>\n",
       "      <th>3</th>\n",
       "      <td>CH2R6SWDN4YHT</td>\n",
       "      <td>DS-CS_C-NB2RABHCGH90P2_2022-07-26</td>\n",
       "      <td>2022-07-26 20:18:27.101</td>\n",
       "      <td>declined</td>\n",
       "    </tr>\n",
       "    <tr>\n",
       "      <th>4</th>\n",
       "      <td>DC5E7NEKWZX1R</td>\n",
       "      <td>DS-CS_C-5G9H98SGEA0KCH_2022-07-26</td>\n",
       "      <td>2022-07-26 20:00:15.068</td>\n",
       "      <td>declined</td>\n",
       "    </tr>\n",
       "  </tbody>\n",
       "</table>\n",
       "</div>"
      ],
      "text/plain": [
       "      unit_token               decision_event_token              created_at  \\\n",
       "0  GVYGTYQ52TSRY  DS-CS_C-E39X1R03XSTRJ2_2022-07-26 2022-07-26 19:26:27.571   \n",
       "1  ZZ938TBHTFV93  DS-CS_C-1H0AYTCBC87AD5_2022-07-26 2022-07-26 19:38:58.707   \n",
       "2  LX2F2498ABCD6  DS-CS_C-39ERN7F72C87SQ_2022-07-26 2022-07-26 19:29:28.191   \n",
       "3  CH2R6SWDN4YHT  DS-CS_C-NB2RABHCGH90P2_2022-07-26 2022-07-26 20:18:27.101   \n",
       "4  DC5E7NEKWZX1R  DS-CS_C-5G9H98SGEA0KCH_2022-07-26 2022-07-26 20:00:15.068   \n",
       "\n",
       "     status  \n",
       "0  declined  \n",
       "1  declined  \n",
       "2  declined  \n",
       "3  declined  \n",
       "4  declined  "
      ]
     },
     "execution_count": 9,
     "metadata": {},
     "output_type": "execute_result"
    }
   ],
   "source": [
    "df7.head()"
   ]
  },
  {
   "cell_type": "code",
   "execution_count": 10,
   "id": "d1b79ec1-f725-430d-932d-e0d743e86945",
   "metadata": {},
   "outputs": [],
   "source": [
    "url7 = \"gs://sq-ds-capital-prod/mrm/Eligibility_2022/TokenList_eligibility_202207.pq\"\n",
    "blocks.place(df7, url7)"
   ]
  },
  {
   "cell_type": "code",
   "execution_count": 10,
   "id": "978419fc-4379-4684-9c29-9cc58041ea3f",
   "metadata": {},
   "outputs": [],
   "source": [
    "df7['date'] = df7['created_at'].dt.date.apply(lambda x: x.strftime('%Y-%m-%d'))"
   ]
  },
  {
   "cell_type": "code",
   "execution_count": 11,
   "id": "94d112cd-2142-477c-8844-946acadcbf77",
   "metadata": {},
   "outputs": [
    {
     "data": {
      "text/plain": [
       "date\n",
       "2022-07-01    3360019\n",
       "2022-07-02    3342231\n",
       "2022-07-03    3349527\n",
       "2022-07-04    3280774\n",
       "2022-07-05    3033380\n",
       "2022-07-06    2519550\n",
       "2022-07-07    1518154\n",
       "2022-07-08    1564861\n",
       "2022-07-09    1639734\n",
       "2022-07-10    1674137\n",
       "2022-07-11    1628580\n",
       "2022-07-12    1608867\n",
       "2022-07-13    1602474\n",
       "2022-07-14    1581325\n",
       "2022-07-15    1545310\n",
       "2022-07-16    1589513\n",
       "2022-07-17    1791408\n",
       "2022-07-18    1639420\n",
       "2022-07-19    1464361\n",
       "2022-07-20    1643559\n",
       "2022-07-21    1635358\n",
       "2022-07-22    1669046\n",
       "2022-07-23    1638496\n",
       "2022-07-24    1673399\n",
       "2022-07-25    1622906\n",
       "2022-07-26    1597889\n",
       "2022-07-27    1588369\n",
       "2022-07-28    1568719\n",
       "2022-07-29    1593699\n",
       "2022-07-30    1636326\n",
       "2022-07-31    1675929\n",
       "Name: unit_token, dtype: int64"
      ]
     },
     "execution_count": 11,
     "metadata": {},
     "output_type": "execute_result"
    }
   ],
   "source": [
    "df7['unit_token'].groupby(df7.date).count()"
   ]
  },
  {
   "cell_type": "code",
   "execution_count": 12,
   "id": "229417c9-5032-4fe6-986c-2dd95fb056ef",
   "metadata": {},
   "outputs": [],
   "source": [
    "df7_sample = df7[['unit_token', 'decision_event_token', 'date']].groupby('date', group_keys=False).sample(n = 100000, random_state = 2022).reset_index(drop=True)"
   ]
  },
  {
   "cell_type": "code",
   "execution_count": 13,
   "id": "69eebe8b-f517-4a36-9291-5f7bbc2662ad",
   "metadata": {},
   "outputs": [
    {
     "data": {
      "text/html": [
       "<div>\n",
       "<style scoped>\n",
       "    .dataframe tbody tr th:only-of-type {\n",
       "        vertical-align: middle;\n",
       "    }\n",
       "\n",
       "    .dataframe tbody tr th {\n",
       "        vertical-align: top;\n",
       "    }\n",
       "\n",
       "    .dataframe thead th {\n",
       "        text-align: right;\n",
       "    }\n",
       "</style>\n",
       "<table border=\"1\" class=\"dataframe\">\n",
       "  <thead>\n",
       "    <tr style=\"text-align: right;\">\n",
       "      <th></th>\n",
       "      <th>unit_token</th>\n",
       "      <th>decision_event_token</th>\n",
       "      <th>date</th>\n",
       "    </tr>\n",
       "  </thead>\n",
       "  <tbody>\n",
       "    <tr>\n",
       "      <th>0</th>\n",
       "      <td>LWY8ACWX93ANP</td>\n",
       "      <td>DS-CS_C-2HKC3BWVNR37VE_2022-07-01</td>\n",
       "      <td>2022-07-01</td>\n",
       "    </tr>\n",
       "    <tr>\n",
       "      <th>1</th>\n",
       "      <td>KQTTMC4PER3M4</td>\n",
       "      <td>DS-b6ee2b32-f184-4696-9de7-f73ba63e7f05</td>\n",
       "      <td>2022-07-01</td>\n",
       "    </tr>\n",
       "    <tr>\n",
       "      <th>2</th>\n",
       "      <td>LFYDZD9TC2XB6</td>\n",
       "      <td>DS-03f014fd-da8b-42c7-bfae-15f5f45e92d7</td>\n",
       "      <td>2022-07-01</td>\n",
       "    </tr>\n",
       "    <tr>\n",
       "      <th>3</th>\n",
       "      <td>GE1ND8EXP6RG5</td>\n",
       "      <td>DS-CS_C-2041REHCD3J5ES_2022-07-01</td>\n",
       "      <td>2022-07-01</td>\n",
       "    </tr>\n",
       "    <tr>\n",
       "      <th>4</th>\n",
       "      <td>25JFBSS3SYKDP</td>\n",
       "      <td>DS-CS_C-3GDQBHNM85MFV8_2022-07-01</td>\n",
       "      <td>2022-07-01</td>\n",
       "    </tr>\n",
       "    <tr>\n",
       "      <th>...</th>\n",
       "      <td>...</td>\n",
       "      <td>...</td>\n",
       "      <td>...</td>\n",
       "    </tr>\n",
       "    <tr>\n",
       "      <th>3099995</th>\n",
       "      <td>5KB4CQCGB0SBE</td>\n",
       "      <td>DS-CS_C-29C8R2F7T3HN8P_2022-07-31</td>\n",
       "      <td>2022-07-31</td>\n",
       "    </tr>\n",
       "    <tr>\n",
       "      <th>3099996</th>\n",
       "      <td>QREJ86TT9CHS3</td>\n",
       "      <td>DS-CS_C-1XNY7QJJW0GB8W_2022-07-31</td>\n",
       "      <td>2022-07-31</td>\n",
       "    </tr>\n",
       "    <tr>\n",
       "      <th>3099997</th>\n",
       "      <td>BDHJ1HHBGR11X</td>\n",
       "      <td>DS-CS_C-JAQS9906HK0ESK_2022-07-31</td>\n",
       "      <td>2022-07-31</td>\n",
       "    </tr>\n",
       "    <tr>\n",
       "      <th>3099998</th>\n",
       "      <td>LT1CRFN6K6HFR</td>\n",
       "      <td>DS-CS_C-2CSNYFN2A3RQZB_2022-07-31</td>\n",
       "      <td>2022-07-31</td>\n",
       "    </tr>\n",
       "    <tr>\n",
       "      <th>3099999</th>\n",
       "      <td>LY6KX3AX3H3VD</td>\n",
       "      <td>DS-CS_C-M9R0BSWFRRC18S_2022-07-31</td>\n",
       "      <td>2022-07-31</td>\n",
       "    </tr>\n",
       "  </tbody>\n",
       "</table>\n",
       "<p>3100000 rows × 3 columns</p>\n",
       "</div>"
      ],
      "text/plain": [
       "            unit_token                     decision_event_token        date\n",
       "0        LWY8ACWX93ANP        DS-CS_C-2HKC3BWVNR37VE_2022-07-01  2022-07-01\n",
       "1        KQTTMC4PER3M4  DS-b6ee2b32-f184-4696-9de7-f73ba63e7f05  2022-07-01\n",
       "2        LFYDZD9TC2XB6  DS-03f014fd-da8b-42c7-bfae-15f5f45e92d7  2022-07-01\n",
       "3        GE1ND8EXP6RG5        DS-CS_C-2041REHCD3J5ES_2022-07-01  2022-07-01\n",
       "4        25JFBSS3SYKDP        DS-CS_C-3GDQBHNM85MFV8_2022-07-01  2022-07-01\n",
       "...                ...                                      ...         ...\n",
       "3099995  5KB4CQCGB0SBE        DS-CS_C-29C8R2F7T3HN8P_2022-07-31  2022-07-31\n",
       "3099996  QREJ86TT9CHS3        DS-CS_C-1XNY7QJJW0GB8W_2022-07-31  2022-07-31\n",
       "3099997  BDHJ1HHBGR11X        DS-CS_C-JAQS9906HK0ESK_2022-07-31  2022-07-31\n",
       "3099998  LT1CRFN6K6HFR        DS-CS_C-2CSNYFN2A3RQZB_2022-07-31  2022-07-31\n",
       "3099999  LY6KX3AX3H3VD        DS-CS_C-M9R0BSWFRRC18S_2022-07-31  2022-07-31\n",
       "\n",
       "[3100000 rows x 3 columns]"
      ]
     },
     "execution_count": 13,
     "metadata": {},
     "output_type": "execute_result"
    }
   ],
   "source": [
    "df7_sample"
   ]
  },
  {
   "cell_type": "code",
   "execution_count": 14,
   "id": "d56d365d-e159-47f1-ad49-83b473ec039d",
   "metadata": {},
   "outputs": [],
   "source": [
    "url7s = \"gs://sq-ds-capital-prod/mrm/Eligibility_2022/TokenSample_202207.pq\"\n",
    "blocks.place(df7_sample, url7s)"
   ]
  },
  {
   "cell_type": "markdown",
   "id": "26f92929-8880-4cbb-bd52-4b99af7edfbc",
   "metadata": {},
   "source": [
    "### 1.5 August"
   ]
  },
  {
   "cell_type": "code",
   "execution_count": 15,
   "id": "88cb5747-3ec3-4f0b-9e41-c7ad7b7bae12",
   "metadata": {},
   "outputs": [],
   "source": [
    "df8 = PullToken('2022-08-01', '2022-09-01')"
   ]
  },
  {
   "cell_type": "code",
   "execution_count": 12,
   "id": "6927d489-7bae-4aa7-8f78-e62a774c3443",
   "metadata": {},
   "outputs": [
    {
     "data": {
      "text/plain": [
       "(50949611, 4)"
      ]
     },
     "execution_count": 12,
     "metadata": {},
     "output_type": "execute_result"
    }
   ],
   "source": [
    "df8.shape"
   ]
  },
  {
   "cell_type": "code",
   "execution_count": 13,
   "id": "141ea72f-f7fc-4a7c-91a2-96a0df1c5632",
   "metadata": {},
   "outputs": [
    {
     "data": {
      "text/html": [
       "<div>\n",
       "<style scoped>\n",
       "    .dataframe tbody tr th:only-of-type {\n",
       "        vertical-align: middle;\n",
       "    }\n",
       "\n",
       "    .dataframe tbody tr th {\n",
       "        vertical-align: top;\n",
       "    }\n",
       "\n",
       "    .dataframe thead th {\n",
       "        text-align: right;\n",
       "    }\n",
       "</style>\n",
       "<table border=\"1\" class=\"dataframe\">\n",
       "  <thead>\n",
       "    <tr style=\"text-align: right;\">\n",
       "      <th></th>\n",
       "      <th>unit_token</th>\n",
       "      <th>decision_event_token</th>\n",
       "      <th>created_at</th>\n",
       "      <th>status</th>\n",
       "    </tr>\n",
       "  </thead>\n",
       "  <tbody>\n",
       "    <tr>\n",
       "      <th>0</th>\n",
       "      <td>LPB9JWY18KF80</td>\n",
       "      <td>DS-CS_C-PC56G9K12RH9JS_2022-08-03</td>\n",
       "      <td>2022-08-03 19:06:11.106</td>\n",
       "      <td>declined</td>\n",
       "    </tr>\n",
       "    <tr>\n",
       "      <th>1</th>\n",
       "      <td>LDJSRDFBHMHAK</td>\n",
       "      <td>DS-CS_C-1V9THW0MF2K910_2022-08-03</td>\n",
       "      <td>2022-08-03 18:55:45.586</td>\n",
       "      <td>declined</td>\n",
       "    </tr>\n",
       "    <tr>\n",
       "      <th>2</th>\n",
       "      <td>L5JR770GFB9F5</td>\n",
       "      <td>DS-CS_C-3RBDRSPBHTQ76Y_2022-08-03</td>\n",
       "      <td>2022-08-03 18:58:52.561</td>\n",
       "      <td>declined</td>\n",
       "    </tr>\n",
       "    <tr>\n",
       "      <th>3</th>\n",
       "      <td>7629AHT1T841H</td>\n",
       "      <td>DS-CS_C-3FQ2J7TYHFCP37_2022-08-03</td>\n",
       "      <td>2022-08-03 19:08:56.307</td>\n",
       "      <td>declined</td>\n",
       "    </tr>\n",
       "    <tr>\n",
       "      <th>4</th>\n",
       "      <td>ENRC334GSVGPK</td>\n",
       "      <td>DS-CS_C-1G6N3A11MDY60V_2022-08-03</td>\n",
       "      <td>2022-08-03 19:05:01.205</td>\n",
       "      <td>declined</td>\n",
       "    </tr>\n",
       "  </tbody>\n",
       "</table>\n",
       "</div>"
      ],
      "text/plain": [
       "      unit_token               decision_event_token              created_at  \\\n",
       "0  LPB9JWY18KF80  DS-CS_C-PC56G9K12RH9JS_2022-08-03 2022-08-03 19:06:11.106   \n",
       "1  LDJSRDFBHMHAK  DS-CS_C-1V9THW0MF2K910_2022-08-03 2022-08-03 18:55:45.586   \n",
       "2  L5JR770GFB9F5  DS-CS_C-3RBDRSPBHTQ76Y_2022-08-03 2022-08-03 18:58:52.561   \n",
       "3  7629AHT1T841H  DS-CS_C-3FQ2J7TYHFCP37_2022-08-03 2022-08-03 19:08:56.307   \n",
       "4  ENRC334GSVGPK  DS-CS_C-1G6N3A11MDY60V_2022-08-03 2022-08-03 19:05:01.205   \n",
       "\n",
       "     status  \n",
       "0  declined  \n",
       "1  declined  \n",
       "2  declined  \n",
       "3  declined  \n",
       "4  declined  "
      ]
     },
     "execution_count": 13,
     "metadata": {},
     "output_type": "execute_result"
    }
   ],
   "source": [
    "df8.head()"
   ]
  },
  {
   "cell_type": "code",
   "execution_count": 14,
   "id": "10e35d64-7375-4928-b13f-8b59c4e0e19c",
   "metadata": {},
   "outputs": [],
   "source": [
    "url8 = \"gs://sq-ds-capital-prod/mrm/Eligibility_2022/TokenList_eligibility_202208.pq\"\n",
    "blocks.place(df8, url8)"
   ]
  },
  {
   "cell_type": "code",
   "execution_count": 16,
   "id": "49211c8a-453a-457f-8561-793105146a28",
   "metadata": {},
   "outputs": [],
   "source": [
    "df8['date'] = df8['created_at'].dt.date.apply(lambda x: x.strftime('%Y-%m-%d'))"
   ]
  },
  {
   "cell_type": "code",
   "execution_count": 17,
   "id": "88acb8ac-8d6c-4cc1-aa32-fa23f80a1caf",
   "metadata": {},
   "outputs": [
    {
     "data": {
      "text/plain": [
       "date\n",
       "2022-08-01    1631740\n",
       "2022-08-02    1621323\n",
       "2022-08-03    1621343\n",
       "2022-08-04    1607129\n",
       "2022-08-05    1628465\n",
       "2022-08-06    1666723\n",
       "2022-08-07    1705579\n",
       "2022-08-08    1657750\n",
       "2022-08-09    1635170\n",
       "2022-08-10    1627227\n",
       "2022-08-11    1602936\n",
       "2022-08-12    1617664\n",
       "2022-08-13    1654495\n",
       "2022-08-14    1702817\n",
       "2022-08-15    1658324\n",
       "2022-08-16    1640478\n",
       "2022-08-17    1637911\n",
       "2022-08-18    1609785\n",
       "2022-08-19    1621772\n",
       "2022-08-20    1660019\n",
       "2022-08-21    1707666\n",
       "2022-08-22    1662267\n",
       "2022-08-23    1637890\n",
       "2022-08-24    1627883\n",
       "2022-08-25    1597087\n",
       "2022-08-26    1609556\n",
       "2022-08-27    1652457\n",
       "2022-08-28    1705291\n",
       "2022-08-29    1665647\n",
       "2022-08-30    1641022\n",
       "2022-08-31    1634195\n",
       "Name: unit_token, dtype: int64"
      ]
     },
     "execution_count": 17,
     "metadata": {},
     "output_type": "execute_result"
    }
   ],
   "source": [
    "df8['unit_token'].groupby(df8.date).count()"
   ]
  },
  {
   "cell_type": "code",
   "execution_count": 18,
   "id": "89adea1e-7c3e-4f94-80b0-d1118efa0377",
   "metadata": {},
   "outputs": [],
   "source": [
    "df8_sample = df8[['unit_token', 'decision_event_token', 'date']].groupby('date', group_keys=False).sample(n = 100000, random_state = 2022).reset_index(drop=True)"
   ]
  },
  {
   "cell_type": "code",
   "execution_count": 19,
   "id": "93de83c4-136d-4396-9142-e57b6ef004a3",
   "metadata": {},
   "outputs": [
    {
     "data": {
      "text/html": [
       "<div>\n",
       "<style scoped>\n",
       "    .dataframe tbody tr th:only-of-type {\n",
       "        vertical-align: middle;\n",
       "    }\n",
       "\n",
       "    .dataframe tbody tr th {\n",
       "        vertical-align: top;\n",
       "    }\n",
       "\n",
       "    .dataframe thead th {\n",
       "        text-align: right;\n",
       "    }\n",
       "</style>\n",
       "<table border=\"1\" class=\"dataframe\">\n",
       "  <thead>\n",
       "    <tr style=\"text-align: right;\">\n",
       "      <th></th>\n",
       "      <th>unit_token</th>\n",
       "      <th>decision_event_token</th>\n",
       "      <th>date</th>\n",
       "    </tr>\n",
       "  </thead>\n",
       "  <tbody>\n",
       "    <tr>\n",
       "      <th>0</th>\n",
       "      <td>LC494X9J7NE7K</td>\n",
       "      <td>DS-CS_C-2G7KF8W826VJT3_2022-08-01</td>\n",
       "      <td>2022-08-01</td>\n",
       "    </tr>\n",
       "    <tr>\n",
       "      <th>1</th>\n",
       "      <td>FPTQH8XKT38CK</td>\n",
       "      <td>DS-CS_C-326FARMQ84HE4E_2022-08-01</td>\n",
       "      <td>2022-08-01</td>\n",
       "    </tr>\n",
       "    <tr>\n",
       "      <th>2</th>\n",
       "      <td>0ZT9D6M2PS0E4</td>\n",
       "      <td>DS-CS_C-9ZJP9EMB89ST15_2022-08-01</td>\n",
       "      <td>2022-08-01</td>\n",
       "    </tr>\n",
       "    <tr>\n",
       "      <th>3</th>\n",
       "      <td>5CZGJFJFPNGE4</td>\n",
       "      <td>DS-CS_C-3PPDQXCC3VMJHT_2022-08-01</td>\n",
       "      <td>2022-08-01</td>\n",
       "    </tr>\n",
       "    <tr>\n",
       "      <th>4</th>\n",
       "      <td>LSKZTPPNAK67W</td>\n",
       "      <td>DS-CS_C-QMSBPEKVJMRKE8_2022-08-01</td>\n",
       "      <td>2022-08-01</td>\n",
       "    </tr>\n",
       "    <tr>\n",
       "      <th>...</th>\n",
       "      <td>...</td>\n",
       "      <td>...</td>\n",
       "      <td>...</td>\n",
       "    </tr>\n",
       "    <tr>\n",
       "      <th>3099995</th>\n",
       "      <td>3FTEME3D7RB6M</td>\n",
       "      <td>DS-CS_C-2945TX285Z7FXA_2022-08-31</td>\n",
       "      <td>2022-08-31</td>\n",
       "    </tr>\n",
       "    <tr>\n",
       "      <th>3099996</th>\n",
       "      <td>LFHQE9X536FS9</td>\n",
       "      <td>DS-CS_C-A1VDWBA4J5MCZ5_2022-08-31</td>\n",
       "      <td>2022-08-31</td>\n",
       "    </tr>\n",
       "    <tr>\n",
       "      <th>3099997</th>\n",
       "      <td>2XEYD5QN6VRYT</td>\n",
       "      <td>DS-CS_C-1NNM1WC124E3AF_2022-08-31</td>\n",
       "      <td>2022-08-31</td>\n",
       "    </tr>\n",
       "    <tr>\n",
       "      <th>3099998</th>\n",
       "      <td>F2J1AC8NPGCE1</td>\n",
       "      <td>DS-CS_C-NCH1SS7FNB7A12_2022-08-31</td>\n",
       "      <td>2022-08-31</td>\n",
       "    </tr>\n",
       "    <tr>\n",
       "      <th>3099999</th>\n",
       "      <td>L4KHP2FQ3ZF07</td>\n",
       "      <td>DS-CS_C-2H150A8HR706ZZ_2022-08-31</td>\n",
       "      <td>2022-08-31</td>\n",
       "    </tr>\n",
       "  </tbody>\n",
       "</table>\n",
       "<p>3100000 rows × 3 columns</p>\n",
       "</div>"
      ],
      "text/plain": [
       "            unit_token               decision_event_token        date\n",
       "0        LC494X9J7NE7K  DS-CS_C-2G7KF8W826VJT3_2022-08-01  2022-08-01\n",
       "1        FPTQH8XKT38CK  DS-CS_C-326FARMQ84HE4E_2022-08-01  2022-08-01\n",
       "2        0ZT9D6M2PS0E4  DS-CS_C-9ZJP9EMB89ST15_2022-08-01  2022-08-01\n",
       "3        5CZGJFJFPNGE4  DS-CS_C-3PPDQXCC3VMJHT_2022-08-01  2022-08-01\n",
       "4        LSKZTPPNAK67W  DS-CS_C-QMSBPEKVJMRKE8_2022-08-01  2022-08-01\n",
       "...                ...                                ...         ...\n",
       "3099995  3FTEME3D7RB6M  DS-CS_C-2945TX285Z7FXA_2022-08-31  2022-08-31\n",
       "3099996  LFHQE9X536FS9  DS-CS_C-A1VDWBA4J5MCZ5_2022-08-31  2022-08-31\n",
       "3099997  2XEYD5QN6VRYT  DS-CS_C-1NNM1WC124E3AF_2022-08-31  2022-08-31\n",
       "3099998  F2J1AC8NPGCE1  DS-CS_C-NCH1SS7FNB7A12_2022-08-31  2022-08-31\n",
       "3099999  L4KHP2FQ3ZF07  DS-CS_C-2H150A8HR706ZZ_2022-08-31  2022-08-31\n",
       "\n",
       "[3100000 rows x 3 columns]"
      ]
     },
     "execution_count": 19,
     "metadata": {},
     "output_type": "execute_result"
    }
   ],
   "source": [
    "df8_sample"
   ]
  },
  {
   "cell_type": "code",
   "execution_count": 20,
   "id": "bcfa2da1-b632-4f2e-8d48-8c2f941553ed",
   "metadata": {},
   "outputs": [],
   "source": [
    "url8s = \"gs://sq-ds-capital-prod/mrm/Eligibility_2022/TokenSample_202208.pq\"\n",
    "blocks.place(df8_sample, url8s)"
   ]
  },
  {
   "cell_type": "markdown",
   "id": "af6dd570-cbc7-42c1-941a-6d9f29288cae",
   "metadata": {},
   "source": [
    "### 1.6 September"
   ]
  },
  {
   "cell_type": "code",
   "execution_count": 3,
   "id": "b4be03a5-90b9-46e2-9add-d351189c2dfc",
   "metadata": {},
   "outputs": [],
   "source": [
    "df9 = PullToken('2022-09-01', '2022-10-01')"
   ]
  },
  {
   "cell_type": "code",
   "execution_count": 16,
   "id": "a7eff52e-9cc2-4783-b9cb-54a949a0b137",
   "metadata": {},
   "outputs": [
    {
     "data": {
      "text/plain": [
       "(50029146, 4)"
      ]
     },
     "execution_count": 16,
     "metadata": {},
     "output_type": "execute_result"
    }
   ],
   "source": [
    "df9.shape"
   ]
  },
  {
   "cell_type": "code",
   "execution_count": 17,
   "id": "e1d9d122-9dc9-4378-a7dd-27d5f0b0a87e",
   "metadata": {},
   "outputs": [
    {
     "data": {
      "text/html": [
       "<div>\n",
       "<style scoped>\n",
       "    .dataframe tbody tr th:only-of-type {\n",
       "        vertical-align: middle;\n",
       "    }\n",
       "\n",
       "    .dataframe tbody tr th {\n",
       "        vertical-align: top;\n",
       "    }\n",
       "\n",
       "    .dataframe thead th {\n",
       "        text-align: right;\n",
       "    }\n",
       "</style>\n",
       "<table border=\"1\" class=\"dataframe\">\n",
       "  <thead>\n",
       "    <tr style=\"text-align: right;\">\n",
       "      <th></th>\n",
       "      <th>unit_token</th>\n",
       "      <th>decision_event_token</th>\n",
       "      <th>created_at</th>\n",
       "      <th>status</th>\n",
       "    </tr>\n",
       "  </thead>\n",
       "  <tbody>\n",
       "    <tr>\n",
       "      <th>0</th>\n",
       "      <td>L1ZZF5GPNGHGT</td>\n",
       "      <td>DS-CS_C-35HTTGR7ACNSDH_2022-09-02</td>\n",
       "      <td>2022-09-02 15:03:35.380</td>\n",
       "      <td>approved</td>\n",
       "    </tr>\n",
       "    <tr>\n",
       "      <th>1</th>\n",
       "      <td>X7WXZ8DK3GR98</td>\n",
       "      <td>DS-CS_C-ZRV9ST3VQRQ204_2022-09-02</td>\n",
       "      <td>2022-09-02 15:03:39.217</td>\n",
       "      <td>approved</td>\n",
       "    </tr>\n",
       "    <tr>\n",
       "      <th>2</th>\n",
       "      <td>99K94F7QJCTJM</td>\n",
       "      <td>DS-CS_C-17WNNQ1PAX8HFF_2022-09-02</td>\n",
       "      <td>2022-09-02 15:06:11.203</td>\n",
       "      <td>approved</td>\n",
       "    </tr>\n",
       "    <tr>\n",
       "      <th>3</th>\n",
       "      <td>0XEQE92X8EJ1H</td>\n",
       "      <td>DS-CS_C-2BG9QMP3SAEQP9_2022-09-02</td>\n",
       "      <td>2022-09-02 15:04:01.122</td>\n",
       "      <td>declined</td>\n",
       "    </tr>\n",
       "    <tr>\n",
       "      <th>4</th>\n",
       "      <td>LGS676NQ7XM9D</td>\n",
       "      <td>DS-CS_C-ZKP4X839E60BE6_2022-09-02</td>\n",
       "      <td>2022-09-02 15:01:27.703</td>\n",
       "      <td>approved</td>\n",
       "    </tr>\n",
       "  </tbody>\n",
       "</table>\n",
       "</div>"
      ],
      "text/plain": [
       "      unit_token               decision_event_token              created_at  \\\n",
       "0  L1ZZF5GPNGHGT  DS-CS_C-35HTTGR7ACNSDH_2022-09-02 2022-09-02 15:03:35.380   \n",
       "1  X7WXZ8DK3GR98  DS-CS_C-ZRV9ST3VQRQ204_2022-09-02 2022-09-02 15:03:39.217   \n",
       "2  99K94F7QJCTJM  DS-CS_C-17WNNQ1PAX8HFF_2022-09-02 2022-09-02 15:06:11.203   \n",
       "3  0XEQE92X8EJ1H  DS-CS_C-2BG9QMP3SAEQP9_2022-09-02 2022-09-02 15:04:01.122   \n",
       "4  LGS676NQ7XM9D  DS-CS_C-ZKP4X839E60BE6_2022-09-02 2022-09-02 15:01:27.703   \n",
       "\n",
       "     status  \n",
       "0  approved  \n",
       "1  approved  \n",
       "2  approved  \n",
       "3  declined  \n",
       "4  approved  "
      ]
     },
     "execution_count": 17,
     "metadata": {},
     "output_type": "execute_result"
    }
   ],
   "source": [
    "df9.head()"
   ]
  },
  {
   "cell_type": "code",
   "execution_count": 18,
   "id": "75dffe5a-22e2-4407-86c4-46c4c77267cc",
   "metadata": {},
   "outputs": [],
   "source": [
    "url9 = \"gs://sq-ds-capital-prod/mrm/Eligibility_2022/TokenList_eligibility_202209.pq\"\n",
    "blocks.place(df9, url9)"
   ]
  },
  {
   "cell_type": "code",
   "execution_count": 4,
   "id": "8f3884fb-4148-487a-9724-945cbf8f8b88",
   "metadata": {},
   "outputs": [],
   "source": [
    "df9['date'] = df9['created_at'].dt.date.apply(lambda x: x.strftime('%Y-%m-%d'))"
   ]
  },
  {
   "cell_type": "code",
   "execution_count": 5,
   "id": "98e68558-075d-4643-a15e-8310942929ce",
   "metadata": {},
   "outputs": [
    {
     "data": {
      "text/plain": [
       "date\n",
       "2022-09-01    1613092\n",
       "2022-09-02    1639518\n",
       "2022-09-03    1692371\n",
       "2022-09-04    1735412\n",
       "2022-09-05    1681327\n",
       "2022-09-06    1001121\n",
       "2022-09-07    2150692\n",
       "2022-09-08    1569478\n",
       "2022-09-09    1607560\n",
       "2022-09-10    1678509\n",
       "2022-09-11    1748214\n",
       "2022-09-12    1704270\n",
       "2022-09-13    1679991\n",
       "2022-09-14    1670876\n",
       "2022-09-15    1627992\n",
       "2022-09-16    1639947\n",
       "2022-09-17    1691109\n",
       "2022-09-18    1767110\n",
       "2022-09-19    1728355\n",
       "2022-09-20    1695292\n",
       "2022-09-21    1683921\n",
       "2022-09-22    1638479\n",
       "2022-09-23    1632394\n",
       "2022-09-24    1680879\n",
       "2022-09-25    1753727\n",
       "2022-09-26    1711530\n",
       "2022-09-27    1685752\n",
       "2022-09-28    1677802\n",
       "2022-09-29    1625896\n",
       "2022-09-30    1616530\n",
       "Name: unit_token, dtype: int64"
      ]
     },
     "execution_count": 5,
     "metadata": {},
     "output_type": "execute_result"
    }
   ],
   "source": [
    "df9['unit_token'].groupby(df9.date).count()"
   ]
  },
  {
   "cell_type": "code",
   "execution_count": 6,
   "id": "d0c9f3e6-27ea-4c01-b3da-590eb57dcc92",
   "metadata": {},
   "outputs": [],
   "source": [
    "df9_sample = df9[['unit_token', 'decision_event_token', 'date']].groupby('date', group_keys=False).sample(n = 100000, random_state = 2022).reset_index(drop=True)"
   ]
  },
  {
   "cell_type": "code",
   "execution_count": 7,
   "id": "0d0a7007-306f-4b71-9c20-c3912a9a0fbf",
   "metadata": {},
   "outputs": [
    {
     "data": {
      "text/html": [
       "<div>\n",
       "<style scoped>\n",
       "    .dataframe tbody tr th:only-of-type {\n",
       "        vertical-align: middle;\n",
       "    }\n",
       "\n",
       "    .dataframe tbody tr th {\n",
       "        vertical-align: top;\n",
       "    }\n",
       "\n",
       "    .dataframe thead th {\n",
       "        text-align: right;\n",
       "    }\n",
       "</style>\n",
       "<table border=\"1\" class=\"dataframe\">\n",
       "  <thead>\n",
       "    <tr style=\"text-align: right;\">\n",
       "      <th></th>\n",
       "      <th>unit_token</th>\n",
       "      <th>decision_event_token</th>\n",
       "      <th>date</th>\n",
       "    </tr>\n",
       "  </thead>\n",
       "  <tbody>\n",
       "    <tr>\n",
       "      <th>0</th>\n",
       "      <td>5F91PVV8NPESY</td>\n",
       "      <td>DS-CS_C-33SSZ673Q7RPB9_2022-09-01</td>\n",
       "      <td>2022-09-01</td>\n",
       "    </tr>\n",
       "    <tr>\n",
       "      <th>1</th>\n",
       "      <td>6DZHZET96BM2M</td>\n",
       "      <td>DS-CS_C-2B8AQ8J8NXZNG8_2022-09-01</td>\n",
       "      <td>2022-09-01</td>\n",
       "    </tr>\n",
       "    <tr>\n",
       "      <th>2</th>\n",
       "      <td>L3PR6QFFSTP5Z</td>\n",
       "      <td>DS-CS_C-38R3TVFHTN7PWD_2022-09-01</td>\n",
       "      <td>2022-09-01</td>\n",
       "    </tr>\n",
       "    <tr>\n",
       "      <th>3</th>\n",
       "      <td>LAFQ90TPZX2MP</td>\n",
       "      <td>DS-CS_C-XNV2XCS91HVYSN_2022-09-01</td>\n",
       "      <td>2022-09-01</td>\n",
       "    </tr>\n",
       "    <tr>\n",
       "      <th>4</th>\n",
       "      <td>78YS5D4RXZABW</td>\n",
       "      <td>DS-CS_C-3N9VFT38DP0W2T_2022-09-01</td>\n",
       "      <td>2022-09-01</td>\n",
       "    </tr>\n",
       "    <tr>\n",
       "      <th>...</th>\n",
       "      <td>...</td>\n",
       "      <td>...</td>\n",
       "      <td>...</td>\n",
       "    </tr>\n",
       "    <tr>\n",
       "      <th>2999995</th>\n",
       "      <td>QNMH6MZNQFFFW</td>\n",
       "      <td>DS-CS_C-TMKFBRV8BEDHHK_2022-09-30</td>\n",
       "      <td>2022-09-30</td>\n",
       "    </tr>\n",
       "    <tr>\n",
       "      <th>2999996</th>\n",
       "      <td>1DSQ70B01P5XR</td>\n",
       "      <td>DS-CS_C-3KX2PQECM32KPW_2022-09-30</td>\n",
       "      <td>2022-09-30</td>\n",
       "    </tr>\n",
       "    <tr>\n",
       "      <th>2999997</th>\n",
       "      <td>E9B4VNX08AMND</td>\n",
       "      <td>DS-CS_C-1PGZ8VY7CFV3RJ_2022-09-30</td>\n",
       "      <td>2022-09-30</td>\n",
       "    </tr>\n",
       "    <tr>\n",
       "      <th>2999998</th>\n",
       "      <td>L48V2NHGNQJHW</td>\n",
       "      <td>DS-CS_C-55QC02DDQX6ZKE_2022-09-30</td>\n",
       "      <td>2022-09-30</td>\n",
       "    </tr>\n",
       "    <tr>\n",
       "      <th>2999999</th>\n",
       "      <td>ZPVZE6AZCFQWM</td>\n",
       "      <td>DS-CS_C-3G0VRR9GE8Z563_2022-09-30</td>\n",
       "      <td>2022-09-30</td>\n",
       "    </tr>\n",
       "  </tbody>\n",
       "</table>\n",
       "<p>3000000 rows × 3 columns</p>\n",
       "</div>"
      ],
      "text/plain": [
       "            unit_token               decision_event_token        date\n",
       "0        5F91PVV8NPESY  DS-CS_C-33SSZ673Q7RPB9_2022-09-01  2022-09-01\n",
       "1        6DZHZET96BM2M  DS-CS_C-2B8AQ8J8NXZNG8_2022-09-01  2022-09-01\n",
       "2        L3PR6QFFSTP5Z  DS-CS_C-38R3TVFHTN7PWD_2022-09-01  2022-09-01\n",
       "3        LAFQ90TPZX2MP  DS-CS_C-XNV2XCS91HVYSN_2022-09-01  2022-09-01\n",
       "4        78YS5D4RXZABW  DS-CS_C-3N9VFT38DP0W2T_2022-09-01  2022-09-01\n",
       "...                ...                                ...         ...\n",
       "2999995  QNMH6MZNQFFFW  DS-CS_C-TMKFBRV8BEDHHK_2022-09-30  2022-09-30\n",
       "2999996  1DSQ70B01P5XR  DS-CS_C-3KX2PQECM32KPW_2022-09-30  2022-09-30\n",
       "2999997  E9B4VNX08AMND  DS-CS_C-1PGZ8VY7CFV3RJ_2022-09-30  2022-09-30\n",
       "2999998  L48V2NHGNQJHW  DS-CS_C-55QC02DDQX6ZKE_2022-09-30  2022-09-30\n",
       "2999999  ZPVZE6AZCFQWM  DS-CS_C-3G0VRR9GE8Z563_2022-09-30  2022-09-30\n",
       "\n",
       "[3000000 rows x 3 columns]"
      ]
     },
     "execution_count": 7,
     "metadata": {},
     "output_type": "execute_result"
    }
   ],
   "source": [
    "df9_sample"
   ]
  },
  {
   "cell_type": "code",
   "execution_count": 8,
   "id": "f2515ca3-1eb5-4597-ac03-855939d90a76",
   "metadata": {},
   "outputs": [],
   "source": [
    "url9s = \"gs://sq-ds-capital-prod/mrm/Eligibility_2022/TokenSample_202209.pq\"\n",
    "blocks.place(df9_sample, url9s)"
   ]
  },
  {
   "cell_type": "code",
   "execution_count": null,
   "id": "67cde656-5277-46fa-be58-9d895c0c0972",
   "metadata": {},
   "outputs": [],
   "source": []
  }
 ],
 "metadata": {
  "kernelspec": {
   "display_name": "Python 3 (ipykernel)",
   "language": "python",
   "name": "python3"
  },
  "language_info": {
   "codemirror_mode": {
    "name": "ipython",
    "version": 3
   },
   "file_extension": ".py",
   "mimetype": "text/x-python",
   "name": "python",
   "nbconvert_exporter": "python",
   "pygments_lexer": "ipython3",
   "version": "3.7.5"
  }
 },
 "nbformat": 4,
 "nbformat_minor": 5
}
