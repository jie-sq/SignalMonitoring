{
 "cells": [
  {
   "cell_type": "code",
   "execution_count": 1,
   "id": "5a9c9205-57da-47c2-bbdd-cb46b4fa47c6",
   "metadata": {},
   "outputs": [
    {
     "name": "stderr",
     "output_type": "stream",
     "text": [
      "/usr/local/lib/python3.7/dist-packages/pysnowflake/__init__.py:21: FutureWarning: \n",
      "    With pysnowflake version 1.0.0 there will be a breaking change.\n",
      "    The legacy api will be dropped as it is no longer maintained, and simple will become the only api.\n",
      "    This will make it easier to keep support for newer features like AWS support, etc. The expected change is\n",
      "    the start of Q2 2022.\n",
      "    \n",
      "  FutureWarning,\n"
     ]
    }
   ],
   "source": [
    "from kplib.dumbo import Dumbo, FeatureOptions, EvaluationOptions, DataframeInput, FileInput\n",
    "import pandas as pd\n",
    "import numpy as np\n",
    "from pysnowflake.simple import Session\n",
    "import blocks"
   ]
  },
  {
   "cell_type": "code",
   "execution_count": 2,
   "id": "e1be4f2a-91d3-4cde-967d-3bdb125d3976",
   "metadata": {},
   "outputs": [],
   "source": [
    "def PullRule5(st_dt, ed_dt):\n",
    "    with Session() as ss:\n",
    "        df  = ss.download(query=\"\"\"\n",
    "            select\n",
    "            os.*\n",
    "            from\n",
    "            app_capital.app_capital.offer_sets os\n",
    "            where\n",
    "            os.product_id = 3\n",
    "            and os.offer_created_at between '{}' and '{}'\n",
    "            and os.COUNTRY_CODE = 'US'\n",
    "            and os.MERCHANT_BUSINESS_TYPE in ('charitible_orgs','charitable_social_service_organizations','political_organizations','tourism','travel_tourism','travel_agencies_and_tour_operators');\n",
    "            \"\"\".format(st_dt, ed_dt)) \n",
    "    return df"
   ]
  },
  {
   "cell_type": "code",
   "execution_count": 3,
   "id": "baa95fd0-4424-444f-89ea-b0895fbdb1b6",
   "metadata": {},
   "outputs": [],
   "source": [
    "df5 = PullRule5('2022-11-01', '2022-11-02')"
   ]
  },
  {
   "cell_type": "code",
   "execution_count": 4,
   "id": "d93e17d6-ed4b-44f2-a04f-a754bbccead6",
   "metadata": {},
   "outputs": [
    {
     "data": {
      "text/html": [
       "<div>\n",
       "<style scoped>\n",
       "    .dataframe tbody tr th:only-of-type {\n",
       "        vertical-align: middle;\n",
       "    }\n",
       "\n",
       "    .dataframe tbody tr th {\n",
       "        vertical-align: top;\n",
       "    }\n",
       "\n",
       "    .dataframe thead th {\n",
       "        text-align: right;\n",
       "    }\n",
       "</style>\n",
       "<table border=\"1\" class=\"dataframe\">\n",
       "  <thead>\n",
       "    <tr style=\"text-align: right;\">\n",
       "      <th></th>\n",
       "      <th>merchant_business_type</th>\n",
       "      <th>Count</th>\n",
       "    </tr>\n",
       "  </thead>\n",
       "  <tbody>\n",
       "    <tr>\n",
       "      <th>0</th>\n",
       "      <td>charitible_orgs</td>\n",
       "      <td>0</td>\n",
       "    </tr>\n",
       "    <tr>\n",
       "      <th>1</th>\n",
       "      <td>tourism</td>\n",
       "      <td>0</td>\n",
       "    </tr>\n",
       "    <tr>\n",
       "      <th>2</th>\n",
       "      <td>travel_agencies_and_tour_operators</td>\n",
       "      <td>0</td>\n",
       "    </tr>\n",
       "  </tbody>\n",
       "</table>\n",
       "</div>"
      ],
      "text/plain": [
       "               merchant_business_type  Count\n",
       "0                     charitible_orgs      0\n",
       "1                             tourism      0\n",
       "2  travel_agencies_and_tour_operators      0"
      ]
     },
     "execution_count": 4,
     "metadata": {},
     "output_type": "execute_result"
    }
   ],
   "source": [
    "count_value = df5[('was_accepted')].groupby(df5['merchant_business_type']).sum()\n",
    "df5_count = pd.DataFrame({'merchant_business_type':count_value.index, 'Count':count_value.values})\n",
    "df5_count"
   ]
  },
  {
   "cell_type": "code",
   "execution_count": 5,
   "id": "adcd86ea-414e-46c3-bc09-93d482b64636",
   "metadata": {},
   "outputs": [],
   "source": [
    "df5 = PullRule5('2022-11-02', '2022-11-03')"
   ]
  },
  {
   "cell_type": "code",
   "execution_count": 6,
   "id": "73196d31-cea8-45ec-b8db-1da856fcc43c",
   "metadata": {},
   "outputs": [
    {
     "data": {
      "text/html": [
       "<div>\n",
       "<style scoped>\n",
       "    .dataframe tbody tr th:only-of-type {\n",
       "        vertical-align: middle;\n",
       "    }\n",
       "\n",
       "    .dataframe tbody tr th {\n",
       "        vertical-align: top;\n",
       "    }\n",
       "\n",
       "    .dataframe thead th {\n",
       "        text-align: right;\n",
       "    }\n",
       "</style>\n",
       "<table border=\"1\" class=\"dataframe\">\n",
       "  <thead>\n",
       "    <tr style=\"text-align: right;\">\n",
       "      <th></th>\n",
       "      <th>merchant_business_type</th>\n",
       "      <th>Count</th>\n",
       "    </tr>\n",
       "  </thead>\n",
       "  <tbody>\n",
       "    <tr>\n",
       "      <th>0</th>\n",
       "      <td>charitible_orgs</td>\n",
       "      <td>0</td>\n",
       "    </tr>\n",
       "    <tr>\n",
       "      <th>1</th>\n",
       "      <td>tourism</td>\n",
       "      <td>0</td>\n",
       "    </tr>\n",
       "    <tr>\n",
       "      <th>2</th>\n",
       "      <td>travel_agencies_and_tour_operators</td>\n",
       "      <td>0</td>\n",
       "    </tr>\n",
       "  </tbody>\n",
       "</table>\n",
       "</div>"
      ],
      "text/plain": [
       "               merchant_business_type  Count\n",
       "0                     charitible_orgs      0\n",
       "1                             tourism      0\n",
       "2  travel_agencies_and_tour_operators      0"
      ]
     },
     "execution_count": 6,
     "metadata": {},
     "output_type": "execute_result"
    }
   ],
   "source": [
    "count_value = df5[('was_accepted')].groupby(df5['merchant_business_type']).sum()\n",
    "df5_count = pd.DataFrame({'merchant_business_type':count_value.index, 'Count':count_value.values})\n",
    "df5_count"
   ]
  },
  {
   "cell_type": "code",
   "execution_count": 7,
   "id": "e7f432b2-b477-49f6-bcf2-5098469a261e",
   "metadata": {},
   "outputs": [],
   "source": [
    "df5 = PullRule5('2022-11-03', '2022-11-04')"
   ]
  },
  {
   "cell_type": "code",
   "execution_count": 8,
   "id": "eae280c2-94a6-41c3-a12e-bb76938355b2",
   "metadata": {},
   "outputs": [
    {
     "data": {
      "text/html": [
       "<div>\n",
       "<style scoped>\n",
       "    .dataframe tbody tr th:only-of-type {\n",
       "        vertical-align: middle;\n",
       "    }\n",
       "\n",
       "    .dataframe tbody tr th {\n",
       "        vertical-align: top;\n",
       "    }\n",
       "\n",
       "    .dataframe thead th {\n",
       "        text-align: right;\n",
       "    }\n",
       "</style>\n",
       "<table border=\"1\" class=\"dataframe\">\n",
       "  <thead>\n",
       "    <tr style=\"text-align: right;\">\n",
       "      <th></th>\n",
       "      <th>merchant_business_type</th>\n",
       "      <th>Count</th>\n",
       "    </tr>\n",
       "  </thead>\n",
       "  <tbody>\n",
       "    <tr>\n",
       "      <th>0</th>\n",
       "      <td>charitible_orgs</td>\n",
       "      <td>0</td>\n",
       "    </tr>\n",
       "    <tr>\n",
       "      <th>1</th>\n",
       "      <td>tourism</td>\n",
       "      <td>0</td>\n",
       "    </tr>\n",
       "  </tbody>\n",
       "</table>\n",
       "</div>"
      ],
      "text/plain": [
       "  merchant_business_type  Count\n",
       "0        charitible_orgs      0\n",
       "1                tourism      0"
      ]
     },
     "execution_count": 8,
     "metadata": {},
     "output_type": "execute_result"
    }
   ],
   "source": [
    "count_value = df5[('was_accepted')].groupby(df5['merchant_business_type']).sum()\n",
    "df5_count = pd.DataFrame({'merchant_business_type':count_value.index, 'Count':count_value.values})\n",
    "df5_count"
   ]
  },
  {
   "cell_type": "code",
   "execution_count": 9,
   "id": "c030a48e-272a-4f59-941c-0921ea0e3f84",
   "metadata": {},
   "outputs": [],
   "source": [
    "df5 = PullRule5('2022-11-04', '2022-11-05')"
   ]
  },
  {
   "cell_type": "code",
   "execution_count": 10,
   "id": "2effb51e-aa5a-4fe3-a361-a52a29c6e0d3",
   "metadata": {},
   "outputs": [
    {
     "data": {
      "text/html": [
       "<div>\n",
       "<style scoped>\n",
       "    .dataframe tbody tr th:only-of-type {\n",
       "        vertical-align: middle;\n",
       "    }\n",
       "\n",
       "    .dataframe tbody tr th {\n",
       "        vertical-align: top;\n",
       "    }\n",
       "\n",
       "    .dataframe thead th {\n",
       "        text-align: right;\n",
       "    }\n",
       "</style>\n",
       "<table border=\"1\" class=\"dataframe\">\n",
       "  <thead>\n",
       "    <tr style=\"text-align: right;\">\n",
       "      <th></th>\n",
       "      <th>merchant_business_type</th>\n",
       "      <th>Count</th>\n",
       "    </tr>\n",
       "  </thead>\n",
       "  <tbody>\n",
       "    <tr>\n",
       "      <th>0</th>\n",
       "      <td>charitible_orgs</td>\n",
       "      <td>0</td>\n",
       "    </tr>\n",
       "    <tr>\n",
       "      <th>1</th>\n",
       "      <td>tourism</td>\n",
       "      <td>0</td>\n",
       "    </tr>\n",
       "  </tbody>\n",
       "</table>\n",
       "</div>"
      ],
      "text/plain": [
       "  merchant_business_type  Count\n",
       "0        charitible_orgs      0\n",
       "1                tourism      0"
      ]
     },
     "execution_count": 10,
     "metadata": {},
     "output_type": "execute_result"
    }
   ],
   "source": [
    "count_value = df5[('was_accepted')].groupby(df5['merchant_business_type']).sum()\n",
    "df5_count = pd.DataFrame({'merchant_business_type':count_value.index, 'Count':count_value.values})\n",
    "df5_count"
   ]
  },
  {
   "cell_type": "code",
   "execution_count": 11,
   "id": "5236088f-d8db-4cba-83a7-dcef7311bf26",
   "metadata": {},
   "outputs": [],
   "source": [
    "df5 = PullRule5('2022-11-05', '2022-11-06')"
   ]
  },
  {
   "cell_type": "code",
   "execution_count": 12,
   "id": "5bb1bcc3-b8ee-4013-9901-cdf8690409f8",
   "metadata": {},
   "outputs": [
    {
     "data": {
      "text/html": [
       "<div>\n",
       "<style scoped>\n",
       "    .dataframe tbody tr th:only-of-type {\n",
       "        vertical-align: middle;\n",
       "    }\n",
       "\n",
       "    .dataframe tbody tr th {\n",
       "        vertical-align: top;\n",
       "    }\n",
       "\n",
       "    .dataframe thead th {\n",
       "        text-align: right;\n",
       "    }\n",
       "</style>\n",
       "<table border=\"1\" class=\"dataframe\">\n",
       "  <thead>\n",
       "    <tr style=\"text-align: right;\">\n",
       "      <th></th>\n",
       "      <th>merchant_business_type</th>\n",
       "      <th>Count</th>\n",
       "    </tr>\n",
       "  </thead>\n",
       "  <tbody>\n",
       "    <tr>\n",
       "      <th>0</th>\n",
       "      <td>charitible_orgs</td>\n",
       "      <td>0</td>\n",
       "    </tr>\n",
       "    <tr>\n",
       "      <th>1</th>\n",
       "      <td>tourism</td>\n",
       "      <td>0</td>\n",
       "    </tr>\n",
       "    <tr>\n",
       "      <th>2</th>\n",
       "      <td>travel_agencies_and_tour_operators</td>\n",
       "      <td>0</td>\n",
       "    </tr>\n",
       "  </tbody>\n",
       "</table>\n",
       "</div>"
      ],
      "text/plain": [
       "               merchant_business_type  Count\n",
       "0                     charitible_orgs      0\n",
       "1                             tourism      0\n",
       "2  travel_agencies_and_tour_operators      0"
      ]
     },
     "execution_count": 12,
     "metadata": {},
     "output_type": "execute_result"
    }
   ],
   "source": [
    "count_value = df5[('was_accepted')].groupby(df5['merchant_business_type']).sum()\n",
    "df5_count = pd.DataFrame({'merchant_business_type':count_value.index, 'Count':count_value.values})\n",
    "df5_count"
   ]
  },
  {
   "cell_type": "code",
   "execution_count": null,
   "id": "0fa61071-41ec-428c-a64a-dbfa33da9c8f",
   "metadata": {},
   "outputs": [],
   "source": []
  }
 ],
 "metadata": {
  "kernelspec": {
   "display_name": "Python 3 (ipykernel)",
   "language": "python",
   "name": "python3"
  },
  "language_info": {
   "codemirror_mode": {
    "name": "ipython",
    "version": 3
   },
   "file_extension": ".py",
   "mimetype": "text/x-python",
   "name": "python",
   "nbconvert_exporter": "python",
   "pygments_lexer": "ipython3",
   "version": "3.7.5"
  }
 },
 "nbformat": 4,
 "nbformat_minor": 5
}
